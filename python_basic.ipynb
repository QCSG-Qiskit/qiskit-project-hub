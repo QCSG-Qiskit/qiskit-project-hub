{
  "nbformat": 4,
  "nbformat_minor": 0,
  "metadata": {
    "colab": {
      "provenance": [],
      "authorship_tag": "ABX9TyM68H+voJsKhvieT2/HTuCW",
      "include_colab_link": true
    },
    "kernelspec": {
      "name": "python3",
      "display_name": "Python 3"
    },
    "language_info": {
      "name": "python"
    }
  },
  "cells": [
    {
      "cell_type": "markdown",
      "metadata": {
        "id": "view-in-github",
        "colab_type": "text"
      },
      "source": [
        "<a href=\"https://colab.research.google.com/github/QCSG-Qiskit/qiskit-project-hub/blob/main/python_basic.ipynb\" target=\"_parent\"><img src=\"https://colab.research.google.com/assets/colab-badge.svg\" alt=\"Open In Colab\"/></a>"
      ]
    },
    {
      "cell_type": "code",
      "execution_count": null,
      "metadata": {
        "colab": {
          "base_uri": "https://localhost:8080/"
        },
        "id": "Y0HtvL3pIGVB",
        "outputId": "a4bfae13-01cf-49f0-b6ad-164855da8421"
      },
      "outputs": [
        {
          "output_type": "stream",
          "name": "stdout",
          "text": [
            "Hello World!\n"
          ]
        }
      ],
      "source": [
        "print(\"Hello World!\") #ctrl+enter 치면 현재 셀 실행 <- # 하고 쓰면 추석처리\n",
        "# <- ctrl+/로 토글\n",
        "# shift+enter하면 실행하고 다음 셀로 넘어감\n",
        "# alt+eneter하면 실행하고 밑에다가 셀을 새로 만듦\n",
        "# esc하면 방향키 위아애로 셀 왔다갔다. 엔터 치면 다시 코드 작성. 이 모드에서 a하면 위에 셀, b하면 아래에 셀 만듦\n",
        "# ctrl+m,d 컨트롤 엠 다음 디 누르면 셀이 삭제 됨. (ctrl+m, z는 셀 수준 실행 취소, ctrl+shift+y는 셀 수준 다시 실행)\n",
        "# ctrl+z, ctrl+shift+z, ctrl+c, ctrl+v 같은 것들은 다 잘됨\n",
        "\n",
        "#spyder \"IDE\" #python이 다 cell기반이 아니고 얘는 cell 기반이다. 여러 사람이 볼 코드면 decoration이 중요할 수 있고.. 이게 스크롤이 너무 늘어나서 정신이 없음."
      ]
    },
    {
      "cell_type": "markdown",
      "source": [],
      "metadata": {
        "id": "QGoVEktTKwIa"
      }
    },
    {
      "cell_type": "markdown",
      "source": [
        "# 큰 제목\n",
        "## 그 다음으로 큰\n",
        "### **볼드**\n",
        "\n",
        "-1\n",
        " - 1-1\n",
        "  - 1-1-1\n",
        "\n",
        "-2-1\n",
        "\n",
        "1. a\n",
        "2. b\n",
        "> gg\n",
        ">> ggg\n",
        "\n",
        "$y=x$\n",
        "\n",
        "'''python\n",
        "print(\"Hello wolrd\")\n",
        "'''\n",
        "\n",
        "[유튜브]https://youtu.be"
      ],
      "metadata": {
        "id": "0wnXmLCYK9Li"
      }
    },
    {
      "cell_type": "markdown",
      "source": [
        "## 파이썬은 계산기다!"
      ],
      "metadata": {
        "id": "YBcZ5ZilMO9X"
      }
    },
    {
      "cell_type": "code",
      "source": [
        "1+1"
      ],
      "metadata": {
        "colab": {
          "base_uri": "https://localhost:8080/"
        },
        "id": "Bb8m8U2DKFzu",
        "outputId": "55f8acb6-8185-4edf-9cf5-e1fd683c3242"
      },
      "execution_count": null,
      "outputs": [
        {
          "output_type": "execute_result",
          "data": {
            "text/plain": [
              "2"
            ]
          },
          "metadata": {},
          "execution_count": 2
        }
      ]
    },
    {
      "cell_type": "code",
      "source": [
        "3-5"
      ],
      "metadata": {
        "colab": {
          "base_uri": "https://localhost:8080/"
        },
        "id": "flGNoHJAKIXr",
        "outputId": "545d56e7-b5c5-4704-f8d1-b8bca29b5b40"
      },
      "execution_count": null,
      "outputs": [
        {
          "output_type": "execute_result",
          "data": {
            "text/plain": [
              "-2"
            ]
          },
          "metadata": {},
          "execution_count": 3
        }
      ]
    },
    {
      "cell_type": "code",
      "source": [
        "2*5"
      ],
      "metadata": {
        "colab": {
          "base_uri": "https://localhost:8080/"
        },
        "id": "En6N-8j1KHFD",
        "outputId": "d8f44e8b-77eb-43da-9127-1b36608ba3eb"
      },
      "execution_count": null,
      "outputs": [
        {
          "output_type": "execute_result",
          "data": {
            "text/plain": [
              "10"
            ]
          },
          "metadata": {},
          "execution_count": 4
        }
      ]
    },
    {
      "cell_type": "code",
      "source": [
        "5/2"
      ],
      "metadata": {
        "colab": {
          "base_uri": "https://localhost:8080/"
        },
        "id": "W_YX39kEKHRu",
        "outputId": "211db1ff-e12a-4e0d-adab-93afb04c710e"
      },
      "execution_count": null,
      "outputs": [
        {
          "output_type": "execute_result",
          "data": {
            "text/plain": [
              "2.5"
            ]
          },
          "metadata": {},
          "execution_count": 5
        }
      ]
    },
    {
      "cell_type": "code",
      "source": [
        "4/2"
      ],
      "metadata": {
        "colab": {
          "base_uri": "https://localhost:8080/"
        },
        "id": "71NGkGhUKGw7",
        "outputId": "ab02d0e0-1e65-4b86-9af8-0441f1a6f09c"
      },
      "execution_count": null,
      "outputs": [
        {
          "output_type": "execute_result",
          "data": {
            "text/plain": [
              "2.0"
            ]
          },
          "metadata": {},
          "execution_count": 6
        }
      ]
    },
    {
      "cell_type": "code",
      "source": [
        "type(2) #int 는 integer의 줄임말 (정수라는 뜻)"
      ],
      "metadata": {
        "colab": {
          "base_uri": "https://localhost:8080/"
        },
        "id": "z_DggR1xMdPT",
        "outputId": "a77ad837-0c6a-430b-c13f-329c961739ea"
      },
      "execution_count": null,
      "outputs": [
        {
          "output_type": "execute_result",
          "data": {
            "text/plain": [
              "int"
            ]
          },
          "metadata": {},
          "execution_count": 7
        }
      ]
    },
    {
      "cell_type": "code",
      "source": [
        "type(2.0) #float는 부동소수점이라는 뜻. 실수. 2. 이라고도 해도 값을 인식함"
      ],
      "metadata": {
        "colab": {
          "base_uri": "https://localhost:8080/"
        },
        "id": "BdTfvMTFMlqR",
        "outputId": "b460586c-e8b0-44d6-ca45-d14f020e4b2d"
      },
      "execution_count": null,
      "outputs": [
        {
          "output_type": "execute_result",
          "data": {
            "text/plain": [
              "float"
            ]
          },
          "metadata": {},
          "execution_count": 8
        }
      ]
    },
    {
      "cell_type": "code",
      "source": [
        "4//2 #2.0 이면 \"두번째\"라는 걸 못 나타내서 이런게 필요함"
      ],
      "metadata": {
        "colab": {
          "base_uri": "https://localhost:8080/"
        },
        "id": "8eTASFz9MuvX",
        "outputId": "1d006b43-b23e-4dce-fe97-63bc14a244b9"
      },
      "execution_count": null,
      "outputs": [
        {
          "output_type": "execute_result",
          "data": {
            "text/plain": [
              "2"
            ]
          },
          "metadata": {},
          "execution_count": 9
        }
      ]
    },
    {
      "cell_type": "code",
      "source": [
        "5//2 #얘는 사실 몫을 뱉어 주는 것 !"
      ],
      "metadata": {
        "colab": {
          "base_uri": "https://localhost:8080/"
        },
        "id": "gWrAQlBCM1jS",
        "outputId": "3fa8d7bd-0f92-418b-c8a8-05db9f1ca43c"
      },
      "execution_count": null,
      "outputs": [
        {
          "output_type": "execute_result",
          "data": {
            "text/plain": [
              "2"
            ]
          },
          "metadata": {},
          "execution_count": 10
        }
      ]
    },
    {
      "cell_type": "code",
      "source": [
        "int(5/2)"
      ],
      "metadata": {
        "colab": {
          "base_uri": "https://localhost:8080/"
        },
        "id": "ZX-3N4itM76M",
        "outputId": "859c4df5-3c70-41e7-8144-d1b2750c4adb"
      },
      "execution_count": null,
      "outputs": [
        {
          "output_type": "execute_result",
          "data": {
            "text/plain": [
              "2"
            ]
          },
          "metadata": {},
          "execution_count": 11
        }
      ]
    },
    {
      "cell_type": "code",
      "source": [
        "float(1)"
      ],
      "metadata": {
        "colab": {
          "base_uri": "https://localhost:8080/"
        },
        "id": "ZQ-aBj9hM9hE",
        "outputId": "16396bb7-ca85-4ddb-d16d-271bf919607c"
      },
      "execution_count": null,
      "outputs": [
        {
          "output_type": "execute_result",
          "data": {
            "text/plain": [
              "1.0"
            ]
          },
          "metadata": {},
          "execution_count": 12
        }
      ]
    },
    {
      "cell_type": "code",
      "source": [
        "int(2.9) # 반올림은아님.소수점 아래 삭제."
      ],
      "metadata": {
        "colab": {
          "base_uri": "https://localhost:8080/"
        },
        "id": "Br4lWkQANCut",
        "outputId": "020404be-d497-4ae6-f62a-7cb4ee461421"
      },
      "execution_count": null,
      "outputs": [
        {
          "output_type": "execute_result",
          "data": {
            "text/plain": [
              "2"
            ]
          },
          "metadata": {},
          "execution_count": 13
        }
      ]
    },
    {
      "cell_type": "code",
      "source": [
        "int(-2.9)"
      ],
      "metadata": {
        "colab": {
          "base_uri": "https://localhost:8080/"
        },
        "id": "GkvG1q0-NHdg",
        "outputId": "6b66672f-1d41-436c-f0ae-d162ce642a00"
      },
      "execution_count": null,
      "outputs": [
        {
          "output_type": "execute_result",
          "data": {
            "text/plain": [
              "-2"
            ]
          },
          "metadata": {},
          "execution_count": 14
        }
      ]
    },
    {
      "cell_type": "code",
      "source": [
        "5%2 #반면에 이건 나머지를 알려줌. 유식한 말로 modulo 연산!"
      ],
      "metadata": {
        "colab": {
          "base_uri": "https://localhost:8080/"
        },
        "id": "sG7n8V-3NIiX",
        "outputId": "d99daaa0-1e45-422b-8bd4-0788bc7bb62e"
      },
      "execution_count": null,
      "outputs": [
        {
          "output_type": "execute_result",
          "data": {
            "text/plain": [
              "1"
            ]
          },
          "metadata": {},
          "execution_count": 15
        }
      ]
    },
    {
      "cell_type": "code",
      "source": [
        "2*2*2*2*2*2*2*2*2*2"
      ],
      "metadata": {
        "colab": {
          "base_uri": "https://localhost:8080/"
        },
        "id": "MKL28MV0NRd8",
        "outputId": "59ccd6e0-b8fc-4dd5-f475-b98c4267c005"
      },
      "execution_count": null,
      "outputs": [
        {
          "output_type": "execute_result",
          "data": {
            "text/plain": [
              "1024"
            ]
          },
          "metadata": {},
          "execution_count": 16
        }
      ]
    },
    {
      "cell_type": "code",
      "source": [
        "2**10 #2의 10승."
      ],
      "metadata": {
        "colab": {
          "base_uri": "https://localhost:8080/"
        },
        "id": "sPpQ67fqNU2E",
        "outputId": "3188b6d1-ab01-4123-9257-c59bee987e35"
      },
      "execution_count": null,
      "outputs": [
        {
          "output_type": "execute_result",
          "data": {
            "text/plain": [
              "1024"
            ]
          },
          "metadata": {},
          "execution_count": 17
        }
      ]
    },
    {
      "cell_type": "code",
      "source": [
        "print(0b011) #0b는 2진수\n",
        "print(0xA) #0x는 16진수. 그냥 하면 마지막 것만 보여줘서 둘다 print를 붙여줌"
      ],
      "metadata": {
        "colab": {
          "base_uri": "https://localhost:8080/"
        },
        "id": "BSLh3v4tNYXD",
        "outputId": "fd75f9ea-1203-48a6-c8e7-87a1019ba726"
      },
      "execution_count": null,
      "outputs": [
        {
          "output_type": "stream",
          "name": "stdout",
          "text": [
            "3\n",
            "10\n"
          ]
        }
      ]
    },
    {
      "cell_type": "code",
      "source": [
        "0b011\n",
        "0xA"
      ],
      "metadata": {
        "colab": {
          "base_uri": "https://localhost:8080/"
        },
        "id": "57BD4LIcNwqj",
        "outputId": "79c60970-2779-4197-e7a9-dea5024824e4"
      },
      "execution_count": null,
      "outputs": [
        {
          "output_type": "execute_result",
          "data": {
            "text/plain": [
              "10"
            ]
          },
          "metadata": {},
          "execution_count": 19
        }
      ]
    },
    {
      "cell_type": "code",
      "source": [
        "a=10 # a라는 이름의 변수에 10이라는값을 \"집어넣는다!\""
      ],
      "metadata": {
        "id": "VApCjG7jN4uF"
      },
      "execution_count": null,
      "outputs": []
    },
    {
      "cell_type": "code",
      "source": [
        "print(a) #a에 들어있는 값을보여달라\n",
        "print(\"a\")\n",
        "a=1 # 10을 집어넣었다가 1을 집어넣었으니 이젠 a에 1이 들어가있다.\n",
        "print(a)"
      ],
      "metadata": {
        "colab": {
          "base_uri": "https://localhost:8080/"
        },
        "id": "INvYZLKMOf7w",
        "outputId": "6161f286-c53f-42b8-e25d-d3bf5b43e325"
      },
      "execution_count": null,
      "outputs": [
        {
          "output_type": "stream",
          "name": "stdout",
          "text": [
            "10\n",
            "a\n",
            "1\n"
          ]
        }
      ]
    },
    {
      "cell_type": "code",
      "source": [
        "a=\"Hello World\" #확실히 수학에서의 등호와는 다르다. 집어넣는거다.\n",
        "print(a) #a라는 문자열이 들어있는 것임"
      ],
      "metadata": {
        "colab": {
          "base_uri": "https://localhost:8080/"
        },
        "id": "W9PVdnnUOxbZ",
        "outputId": "012c6bbd-8ee1-4b5d-ecf0-526a48186894"
      },
      "execution_count": null,
      "outputs": [
        {
          "output_type": "stream",
          "name": "stdout",
          "text": [
            "Hello World\n"
          ]
        }
      ]
    },
    {
      "cell_type": "code",
      "source": [
        "a1=1\n",
        "a2=2\n",
        "a3=3\n",
        "#1a=10 # 왼쪽에 와야하는 것은 변수 명에서 숫자가 맨 앞에 올수 없다."
      ],
      "metadata": {
        "id": "O9pjsRGqOLJY"
      },
      "execution_count": null,
      "outputs": []
    },
    {
      "cell_type": "code",
      "source": [
        "a=3\n",
        "A=4\n",
        "print(a); print(A) #대문자 구별됨. 한 줄에 쓰려면 ;로 구별"
      ],
      "metadata": {
        "colab": {
          "base_uri": "https://localhost:8080/"
        },
        "id": "cGroaSf7PbYR",
        "outputId": "d91d9a4e-5a27-4d9c-ea00-f154ae581c2b"
      },
      "execution_count": null,
      "outputs": [
        {
          "output_type": "stream",
          "name": "stdout",
          "text": [
            "3\n",
            "4\n"
          ]
        }
      ]
    },
    {
      "cell_type": "code",
      "source": [
        "#print = 3 #print라는 변수명에 3이 입력이 된 것임... 함수 명에 값 넣지 마! 만약 이렇게 했다면 런타임 다시 시작"
      ],
      "metadata": {
        "id": "ZfS-TFD7QJe-"
      },
      "execution_count": null,
      "outputs": []
    },
    {
      "cell_type": "code",
      "source": [
        "print(\"Hello World!\")"
      ],
      "metadata": {
        "colab": {
          "base_uri": "https://localhost:8080/"
        },
        "id": "MvtmTQb5QK16",
        "outputId": "1b1fd2e4-4291-46d8-8fe4-fda9ae670d35"
      },
      "execution_count": null,
      "outputs": [
        {
          "output_type": "stream",
          "name": "stdout",
          "text": [
            "Hello World!\n"
          ]
        }
      ]
    },
    {
      "cell_type": "code",
      "source": [
        "#a-b=1\n",
        "#a*b=1\n",
        "#a**2=1"
      ],
      "metadata": {
        "id": "pMOfzXE4QkXR"
      },
      "execution_count": null,
      "outputs": []
    },
    {
      "cell_type": "code",
      "source": [
        "del a\n",
        "#print(a) #a를 위에서 지워줬기 때문에 실행이안 되는 것임"
      ],
      "metadata": {
        "id": "4hw-fAaoQslT"
      },
      "execution_count": null,
      "outputs": []
    },
    {
      "cell_type": "code",
      "source": [
        "a=1; b=2\n",
        "c=a+b\n",
        "print(c)"
      ],
      "metadata": {
        "colab": {
          "base_uri": "https://localhost:8080/"
        },
        "id": "XhuZ6Pi3Q5_P",
        "outputId": "bdd42f72-c9de-428b-8bc4-6b89a94dbf3e"
      },
      "execution_count": null,
      "outputs": [
        {
          "output_type": "stream",
          "name": "stdout",
          "text": [
            "3\n"
          ]
        }
      ]
    },
    {
      "cell_type": "code",
      "source": [
        "a=a+5 #update가 되는 것임\n",
        "print(a) #이거 실행을 두 번하면 두 번 더해짐. 1+5 +5 이런개념이 아니라 기존 16에다가 11을 더해주네..?"
      ],
      "metadata": {
        "colab": {
          "base_uri": "https://localhost:8080/"
        },
        "id": "RSSQbi4gQ9hy",
        "outputId": "81c4a9d1-f318-4c40-b12c-27a059e28c98"
      },
      "execution_count": null,
      "outputs": [
        {
          "output_type": "stream",
          "name": "stdout",
          "text": [
            "6\n"
          ]
        }
      ]
    },
    {
      "cell_type": "code",
      "source": [
        "a += 5 #이건 기호 약속임. a = a+5 와 동일\n",
        "print(a)"
      ],
      "metadata": {
        "colab": {
          "base_uri": "https://localhost:8080/"
        },
        "id": "ES4LAxpURBZT",
        "outputId": "5a5222fb-69d2-456d-f5cf-4bd5adda718c"
      },
      "execution_count": null,
      "outputs": [
        {
          "output_type": "stream",
          "name": "stdout",
          "text": [
            "11\n"
          ]
        }
      ]
    },
    {
      "cell_type": "code",
      "source": [
        "a *=2 # a=a*2\n",
        "print(a)"
      ],
      "metadata": {
        "colab": {
          "base_uri": "https://localhost:8080/"
        },
        "id": "56iGAjQZRTB1",
        "outputId": "4ee7d84b-2268-4809-efb0-6715a655ab33"
      },
      "execution_count": null,
      "outputs": [
        {
          "output_type": "stream",
          "name": "stdout",
          "text": [
            "22\n"
          ]
        }
      ]
    },
    {
      "cell_type": "code",
      "source": [
        "a /=2\n",
        "print(a)"
      ],
      "metadata": {
        "colab": {
          "base_uri": "https://localhost:8080/"
        },
        "id": "eXlTvEGpRYDu",
        "outputId": "c8ea2b77-528f-4d17-a130-8f69c312003d"
      },
      "execution_count": null,
      "outputs": [
        {
          "output_type": "stream",
          "name": "stdout",
          "text": [
            "11.0\n"
          ]
        }
      ]
    },
    {
      "cell_type": "code",
      "source": [
        "x=4\n",
        "print(x)\n",
        "print(\"x =\", x)"
      ],
      "metadata": {
        "colab": {
          "base_uri": "https://localhost:8080/"
        },
        "id": "CkeCHhuNRZ-i",
        "outputId": "02138666-a5ec-4082-e6c6-ec5bac765d4d"
      },
      "execution_count": null,
      "outputs": [
        {
          "output_type": "stream",
          "name": "stdout",
          "text": [
            "4\n",
            "x = 4\n"
          ]
        }
      ]
    },
    {
      "cell_type": "code",
      "source": [
        "import numpy as np\n",
        "a=np.array([[1,2],[3,4]])\n",
        "np.linalg.inv(a)"
      ],
      "metadata": {
        "colab": {
          "base_uri": "https://localhost:8080/"
        },
        "id": "4OQI0VnCRv5Y",
        "outputId": "be265daf-70ba-4ce3-c8a2-1da2d5bc716c"
      },
      "execution_count": null,
      "outputs": [
        {
          "output_type": "execute_result",
          "data": {
            "text/plain": [
              "array([[-2. ,  1. ],\n",
              "       [ 1.5, -0.5]])"
            ]
          },
          "metadata": {},
          "execution_count": 35
        }
      ]
    },
    {
      "cell_type": "markdown",
      "source": [
        "## 진화된 계산기다!"
      ],
      "metadata": {
        "id": "wk7Bo0PFTHBB"
      }
    },
    {
      "cell_type": "code",
      "source": [
        "a=1\n",
        "a==1 #같냐? 정도는 물어볼 수 있음. 등호같은 개념.."
      ],
      "metadata": {
        "colab": {
          "base_uri": "https://localhost:8080/"
        },
        "id": "xzFxUbIiS-o4",
        "outputId": "ca78704f-2014-4513-dd06-ae7aeacd30ee"
      },
      "execution_count": null,
      "outputs": [
        {
          "output_type": "execute_result",
          "data": {
            "text/plain": [
              "True"
            ]
          },
          "metadata": {},
          "execution_count": 36
        }
      ]
    },
    {
      "cell_type": "code",
      "source": [
        "a>3"
      ],
      "metadata": {
        "colab": {
          "base_uri": "https://localhost:8080/"
        },
        "id": "d5JSFZe4TPoM",
        "outputId": "68cab1b5-2bcd-4d90-944f-f6c69a624734"
      },
      "execution_count": null,
      "outputs": [
        {
          "output_type": "execute_result",
          "data": {
            "text/plain": [
              "False"
            ]
          },
          "metadata": {},
          "execution_count": 37
        }
      ]
    },
    {
      "cell_type": "code",
      "source": [
        "a>=3"
      ],
      "metadata": {
        "colab": {
          "base_uri": "https://localhost:8080/"
        },
        "id": "HsI94BCITQ8e",
        "outputId": "42350e8a-5703-41bf-f3d5-2a04efed4d03"
      },
      "execution_count": null,
      "outputs": [
        {
          "output_type": "execute_result",
          "data": {
            "text/plain": [
              "False"
            ]
          },
          "metadata": {},
          "execution_count": 38
        }
      ]
    },
    {
      "cell_type": "code",
      "source": [
        "a=>3 #이모티콘 있네 그럼 안됨."
      ],
      "metadata": {
        "colab": {
          "base_uri": "https://localhost:8080/",
          "height": 108
        },
        "id": "aXCCFiBZTTG7",
        "outputId": "a7852f43-88e7-4a2f-d7dd-272d9cc36363"
      },
      "execution_count": null,
      "outputs": [
        {
          "output_type": "error",
          "ename": "SyntaxError",
          "evalue": "invalid syntax (<ipython-input-39-30f58de99375>, line 1)",
          "traceback": [
            "\u001b[0;36m  File \u001b[0;32m\"<ipython-input-39-30f58de99375>\"\u001b[0;36m, line \u001b[0;32m1\u001b[0m\n\u001b[0;31m    a=>3 #이모티콘 있네 그럼 안됨.\u001b[0m\n\u001b[0m      ^\u001b[0m\n\u001b[0;31mSyntaxError\u001b[0m\u001b[0;31m:\u001b[0m invalid syntax\n"
          ]
        }
      ]
    },
    {
      "cell_type": "code",
      "source": [
        "a!=3 #!다르냐"
      ],
      "metadata": {
        "id": "dymFCEGwTUyJ"
      },
      "execution_count": null,
      "outputs": []
    },
    {
      "cell_type": "code",
      "source": [
        "a is 1"
      ],
      "metadata": {
        "id": "i0rcFaxPTZTL"
      },
      "execution_count": null,
      "outputs": []
    },
    {
      "cell_type": "code",
      "source": [
        "a is not 1"
      ],
      "metadata": {
        "id": "YWBNghYMTvrn"
      },
      "execution_count": null,
      "outputs": []
    },
    {
      "cell_type": "code",
      "source": [
        "#matlab이나 c언어 같은"
      ],
      "metadata": {
        "id": "vW-X-50pTwbs"
      },
      "execution_count": null,
      "outputs": []
    },
    {
      "cell_type": "code",
      "source": [
        "\"Python\" == \"python\""
      ],
      "metadata": {
        "id": "O4OeZpZcT9bB"
      },
      "execution_count": null,
      "outputs": []
    },
    {
      "cell_type": "code",
      "source": [
        "x=3\n",
        "print(x>1 and x<5)\n",
        "print(x>1 or x<-1) #1보다 크거나 -1보다 작냐. 둘 중에 하나만맞아도 or. true임.\n",
        "print(bool(1))\n",
        "print(bool(0)) #숫자 1을 true 혹은 false로 변환시켜주는것임\n",
        "print(type(x>1)) #true, false는 자료형을 보여주는 것임\n",
        "print(type(\"True\"))\n",
        "int(2.5)"
      ],
      "metadata": {
        "id": "v-mFPgoYUARR"
      },
      "execution_count": null,
      "outputs": []
    },
    {
      "cell_type": "markdown",
      "source": [
        "##여러 개를 한 변수에 넣을 순 없을까? 리스트!"
      ],
      "metadata": {
        "id": "XDdcGz7oUqRI"
      }
    },
    {
      "cell_type": "code",
      "source": [
        "a=[1,2,3] #여러 개를 하고 콤마를 하면, 하나의 변수에 여러 개를 넣는 것. list라고 함. 나열임. 숫자 일 수도 있고..\n",
        "print(a)"
      ],
      "metadata": {
        "id": "MKaMVww-UEaS"
      },
      "execution_count": null,
      "outputs": []
    },
    {
      "cell_type": "code",
      "source": [
        "a=[1,2,3]\n",
        "b=[3,4,5]\n",
        "print(a+b) #더하는 게 아니고 쌓는다 는 개념임"
      ],
      "metadata": {
        "id": "EMSTe16TU1Rd"
      },
      "execution_count": null,
      "outputs": []
    },
    {
      "cell_type": "code",
      "source": [
        "#대괄호 안에 문자로 넣을 수 있거든. 뭐든 들어간다. 교환법칙시 성립하지 않는 것임\n",
        "a=[4, \"ㅋ\", 6]\n",
        "print(\"a\")\n",
        "print(a)"
      ],
      "metadata": {
        "id": "snRCQOTsU6AI"
      },
      "execution_count": null,
      "outputs": []
    },
    {
      "cell_type": "code",
      "source": [
        "c=[] # 빈 리스트\n",
        "c.append(1)\n",
        "c.append(\"하하\")\n",
        "c.append(3)\n",
        "print(c)"
      ],
      "metadata": {
        "id": "0UpSiUrcVCQs"
      },
      "execution_count": null,
      "outputs": []
    },
    {
      "cell_type": "code",
      "source": [
        "a=[]\n",
        "a = a+ [1] #a += [1] 이것도 같은 의미\n",
        "a += [\"ㅋㅎㅎ\"]\n",
        "a += \"ㅋㅎㅎ\"\n",
        "a += [2]\n",
        "print(a)"
      ],
      "metadata": {
        "id": "vSJsfu07VUnB"
      },
      "execution_count": null,
      "outputs": []
    },
    {
      "cell_type": "code",
      "source": [
        "loss_history=[]\n",
        "loss=1\n",
        "loss_history += [loss]\n",
        "print(loss_history)"
      ],
      "metadata": {
        "id": "hyOYmMVGVe8N"
      },
      "execution_count": null,
      "outputs": []
    },
    {
      "cell_type": "markdown",
      "source": [
        "##range는 반복문의 친구"
      ],
      "metadata": {
        "id": "TaYIH1XkWWmT"
      }
    },
    {
      "cell_type": "code",
      "source": [
        "range(10)\n",
        "list(range(10)) #range를 list로 바꿔줌\n",
        "print(a) #list는 list, range는 range의 자료형이 따로 있는 것임"
      ],
      "metadata": {
        "id": "q6Kh5RIjWHIT"
      },
      "execution_count": null,
      "outputs": []
    },
    {
      "cell_type": "code",
      "source": [
        "b=list(range(1,11)) #이건 1부터 10까지\n",
        "print(b) #matlab에서 넘어오면 다른 점 중 하나임. 11인데 11까지가 아니라 미만까지라고 생각하면 됨. 이점이 있음. matlab은\n",
        "#k=0:N-1 #matlab에서는 이렇게 썼어야 했는데, range라고 하면 10개구나 바로 알 수 있음\n",
        "c=list(range(1,11,2)) # 1부터 시작. 11미만까지 2 간격. 미만까지이기 때문에 11이 안 나옴\n",
        "print(c)\n",
        "print(list(range(10,0,-1))) #10 부터 시작, 그리고 0 초과까지"
      ],
      "metadata": {
        "colab": {
          "base_uri": "https://localhost:8080/"
        },
        "id": "z46rzHSnWcRl",
        "outputId": "09e78861-51d0-4756-b582-c2d9b4ec98ce"
      },
      "execution_count": null,
      "outputs": [
        {
          "output_type": "stream",
          "name": "stdout",
          "text": [
            "[1, 2, 3, 4, 5, 6, 7, 8, 9, 10]\n",
            "[1, 3, 5, 7, 9]\n",
            "[10, 9, 8, 7, 6, 5, 4, 3, 2, 1]\n"
          ]
        }
      ]
    },
    {
      "cell_type": "markdown",
      "source": [
        "## 튜플이라는 것도 있어오"
      ],
      "metadata": {
        "id": "WKrh6LYFz3Fp"
      }
    },
    {
      "cell_type": "code",
      "source": [
        "a=(1,\"ㅋ\", 3)\n",
        "b=[1,2,3]\n",
        "print(type(a))\n",
        "print(type(b))"
      ],
      "metadata": {
        "id": "wt77s51uWq4J"
      },
      "execution_count": null,
      "outputs": []
    },
    {
      "cell_type": "code",
      "source": [
        "b=tuple(range(10))\n",
        "print(b)"
      ],
      "metadata": {
        "id": "_BkGmrdw0Bxb"
      },
      "execution_count": null,
      "outputs": []
    },
    {
      "cell_type": "code",
      "source": [
        "a = list(range(10))\n",
        "b = tuple(range(10))\n",
        "c= tuple(a)\n",
        "d= list(b)\n",
        "print(a)\n",
        "print(b)\n",
        "print(c) #튜플과 리스트가 바뀐다!\n",
        "print(d)"
      ],
      "metadata": {
        "colab": {
          "base_uri": "https://localhost:8080/"
        },
        "id": "Al30CXve0F3M",
        "outputId": "aad3fca4-3f8c-4474-ef60-b4611d52d0a5"
      },
      "execution_count": null,
      "outputs": [
        {
          "output_type": "stream",
          "name": "stdout",
          "text": [
            "[0, 1, 2, 3, 4, 5, 6, 7, 8, 9]\n",
            "(0, 1, 2, 3, 4, 5, 6, 7, 8, 9)\n",
            "(0, 1, 2, 3, 4, 5, 6, 7, 8, 9)\n",
            "[0, 1, 2, 3, 4, 5, 6, 7, 8, 9]\n"
          ]
        }
      ]
    },
    {
      "cell_type": "markdown",
      "source": [
        "# in은 있냐? 를 물어봄"
      ],
      "metadata": {
        "id": "tWiwFO4Q0d6L"
      }
    },
    {
      "cell_type": "code",
      "source": [
        "a=list(range(10))\n",
        "b=tuple(range(10))\n",
        "c=range(10)\n",
        "print(1 in a) # a 에 1이 있냐?\n",
        "print(15 in a)\n",
        "print(1 not in b) #b에 1이 없냐?\n",
        "print(15 in b)\n",
        "print(5 in c)"
      ],
      "metadata": {
        "id": "VGxdTgXm0ZEg"
      },
      "execution_count": null,
      "outputs": []
    },
    {
      "cell_type": "code",
      "source": [
        "s = \"Hello\"\n",
        "print(\"h\" in s)\n",
        "print(\"H\" in s) #대소문자를 구분함. 스트링도 가능"
      ],
      "metadata": {
        "id": "BiS8TfOm0pQf"
      },
      "execution_count": null,
      "outputs": []
    },
    {
      "cell_type": "markdown",
      "source": [
        "#리스트의 기본 연산과 인덱싱"
      ],
      "metadata": {
        "id": "GZbxX9bM1FWK"
      }
    },
    {
      "cell_type": "code",
      "source": [
        "a=[1,2,3]\n",
        "b=a+a\n",
        "c=a*3\n",
        "d=a*(12//4) #12/4 릃 하면 float으로 바뀌게 되어서 12//4 로 해야함\n",
        "e=a*int(12/4)\n",
        "print(a)\n",
        "print(b)\n",
        "print(c)\n",
        "print(d)\n",
        "print(e)"
      ],
      "metadata": {
        "id": "ohw6k0Jo1BQl"
      },
      "execution_count": null,
      "outputs": []
    },
    {
      "cell_type": "code",
      "source": [
        "a=[1,2,3]\n",
        "print(len(a)) #len 은 length로 길이를 알려줘임."
      ],
      "metadata": {
        "id": "MvXTAO7y1eHE"
      },
      "execution_count": null,
      "outputs": []
    },
    {
      "cell_type": "code",
      "source": [
        "s=\"hello\"\n",
        "s2=[\"hello\"]\n",
        "print(s)\n",
        "print(len(s)) #len() 안에 문자열이 들어오면 문자의 개수를 알려주고\n",
        "print(s2)\n",
        "print(len(s2)) # len() 안에 리스트가 들어오면 리스트에 들어있는 항목의 개수를 알려준다. 왜냐면 리스트의 길이를 알려주는 거라서..!"
      ],
      "metadata": {
        "id": "gSbnt3ty1lKq"
      },
      "execution_count": null,
      "outputs": []
    },
    {
      "cell_type": "code",
      "source": [
        "a=[1,2,3]\n",
        "print(a[0]) #이걸 인덱싱이라고 해줌. matlab에서도 있는데 다른 점은 1부터 시작. 코랩은 0부터 시작. #a[i] : i 번째의 값을 가리킴.\n",
        "print(a[0], a[1], a[2])\n",
        "print(a[-1]) # -1 은 마지막 것을 가리킨다.\n",
        "print(a[-1], a[-2], a[-3]) #마지막에서 전전꺼 -2 이런식으로 나타내줄 수 있음"
      ],
      "metadata": {
        "colab": {
          "base_uri": "https://localhost:8080/"
        },
        "id": "xD_1y24U1pFP",
        "outputId": "46fb0242-acf5-478e-efd3-dd0dff1def94"
      },
      "execution_count": null,
      "outputs": [
        {
          "output_type": "stream",
          "name": "stdout",
          "text": [
            "1\n",
            "1 2 3\n",
            "3\n",
            "3 2 1\n"
          ]
        }
      ]
    },
    {
      "cell_type": "code",
      "source": [
        "r=range(0, 10, 2) #range로 인덱싱 됨\n",
        "print(r[0],r[1],r[2])"
      ],
      "metadata": {
        "id": "ci5K5mSY2JEG"
      },
      "execution_count": null,
      "outputs": []
    },
    {
      "cell_type": "code",
      "source": [
        "a=[1,2,3]\n",
        "a[0] = 3\n",
        "a[1] = 5\n",
        "a[2] = 10\n",
        "print(a) #리스트도 마찬가지로 마지막에 정의된 애가 새로 입력되게 되어있음. 리스트는 중간에 값을 바꾸게 되는데 mutable이라고 함 튜플은 immutable임"
      ],
      "metadata": {
        "id": "FrArHAni292K"
      },
      "execution_count": null,
      "outputs": []
    },
    {
      "cell_type": "code",
      "source": [
        "a=(1,2,3,)\n",
        "a(0)=2#a[0] immutable\n"
      ],
      "metadata": {
        "id": "e1zn_8Cx3Ih3"
      },
      "execution_count": null,
      "outputs": []
    },
    {
      "cell_type": "code",
      "source": [
        "a=[1,2,3]\n",
        "del a[1]\n",
        "print(a)"
      ],
      "metadata": {
        "id": "OM_LDio13gGU"
      },
      "execution_count": null,
      "outputs": []
    },
    {
      "cell_type": "markdown",
      "source": [
        "#굉장히 많이 쓰이는 슬라이스!"
      ],
      "metadata": {
        "id": "_8v8gbRt3nh8"
      }
    },
    {
      "cell_type": "code",
      "source": [
        "a=[1,2,3,4,5,6,7,8,9,10] #python의 꽃은 list!\n",
        "b=a[0:3] # 0부터 3 미만번째\n",
        "print(b)"
      ],
      "metadata": {
        "id": "7LJrpSpv3kr3"
      },
      "execution_count": null,
      "outputs": []
    },
    {
      "cell_type": "code",
      "source": [
        "a=[1,2,3,4,5,6,7,8,9,10]\n",
        "print(a[1:3])\n",
        "print(a[3:-1])\n",
        "print(a[1:7:2]) # 8은 비포함\n",
        "print(a[:5]) # 0 을 안 쓰면 0이 디폴트임. 첫 번째 자리를 비우면 처음 것부터\n",
        "print(a[5:]) # 두번째 자리를 비우면 마지막까지 (마지막도 포함. 드디어..)\n",
        "print(a[:]) # 처음부터 끝까지라는 말임"
      ],
      "metadata": {
        "id": "zM84MZdy3wEo"
      },
      "execution_count": null,
      "outputs": []
    },
    {
      "cell_type": "code",
      "source": [
        "a=[1,2,3,4,5,6,7,8,9,10]\n",
        "print(a[:7:2])\n",
        "print(a[7::2])\n",
        "print(a[::2])\n",
        "print(a[::]) # 세 번째를 비워두면 1간격임"
      ],
      "metadata": {
        "id": "4BV5oH5S4xe9"
      },
      "execution_count": null,
      "outputs": []
    },
    {
      "cell_type": "code",
      "source": [
        "a=[1,2,3,4,5]\n",
        "del a[1:3]\n",
        "print(a)"
      ],
      "metadata": {
        "id": "HeUKo4Y74N1G"
      },
      "execution_count": null,
      "outputs": []
    },
    {
      "cell_type": "markdown",
      "source": [
        "## 딕셔너리"
      ],
      "metadata": {
        "id": "1tcqrmwg5W9H"
      }
    },
    {
      "cell_type": "code",
      "source": [
        "dic1 = {\"a\":1 ,\"b\":2, 100:\"5\", 200:\"ㅎㅎ\"} #중괄호다. 콜론 (:) 이 들어간다.\n",
        "# key value라고 함. 숫자 문자 뭐든간에 키, 값이 될 수 있다.\n",
        "# key에는 수정할 수 없는 튜플은 되고, 리스트는 안 됨.\n",
        "# 값에는 튜플도 되고 리스트도 됨.\n",
        "# key가 마치 영한 사전으로 비유하면, 영한 사전이 key이고, value가 뜻임.\n",
        "print(dic1)\n",
        "print(dic1[\"a\"], dic1[\"b\"], dic1[100], dic1[200]) #0,1,2 이렇게 찾는 게 아니라\n",
        "print(len(dic1)) # 네 쌍이라서 4\n",
        "print(dic1.keys())\n",
        "print(dic1.values())\n",
        "print(dic1.items())"
      ],
      "metadata": {
        "id": "sDgkAU5j5VyX"
      },
      "execution_count": null,
      "outputs": []
    },
    {
      "cell_type": "code",
      "source": [
        "print(list(zip([\"a\",\"b\"], [1,2])))\n",
        "a=dict(zip([\"a\",\"b\"], [1,2]))  #zip은 지퍼처럼 하나하나 딱딱 짝을 지어주는 것\n",
        "print(a)"
      ],
      "metadata": {
        "id": "gFSDDsR66HFp"
      },
      "execution_count": null,
      "outputs": []
    },
    {
      "cell_type": "code",
      "source": [
        "dic1={\"a\":1, \"b\":2, \"c\":3, \"d\":4}\n",
        "dic1[\"a\"]=100; dic1[\"b\"] = 200; dic1[\"c\"]=300; dic1[\"d\"]=400\n",
        "print(dic1)\n",
        "dic1[\"e\"] = \"새로운 키\"\n",
        "print(dic1)\n",
        "print(\"a\" in dic1) #\"a\" 라는 키가 있느냐\n",
        "print(\"A\" in dic1) #100 이라는 키가 있느냐. dictionary는 키가 중심임. in도 키 중심으로 키가 있느냐 물어봄"
      ],
      "metadata": {
        "id": "SoDQSk-w6iBO"
      },
      "execution_count": null,
      "outputs": []
    },
    {
      "cell_type": "markdown",
      "source": [
        "##조건문"
      ],
      "metadata": {
        "id": "A5d4NwIs7sW9"
      }
    },
    {
      "cell_type": "code",
      "source": [
        "a=5\n",
        "print(a>3)\n",
        "print(a<3)\n",
        "print(a==5)\n",
        "\n",
        "if a>3:\n",
        "    print(\"3보다 큽니다\")\n",
        "\n",
        "if a<3:\n",
        "    print(\"3보다 작습니다.\") #위에서부터 내려오는 거임. 6에서 true니까 7 실행. 8에 없네. false면 실행을 안 함. 에러가 아니가 넘어가는 거임\n",
        "\n",
        "if a==5:\n",
        "    print(\"5와 같습니다.\")\n",
        "\n",
        "#if a=5:\n",
        "#    print(\"5를 a에 넣는다면..?\") #이건 문법 오류라는 거임. a를 5에다가 넣는다니.."
      ],
      "metadata": {
        "id": "RnHeN9hE7Wdo"
      },
      "execution_count": null,
      "outputs": []
    },
    {
      "cell_type": "code",
      "source": [
        "a=5\n",
        "if a==5:\n",
        "    print(\"5와\")\n",
        "    print(\"같습니다\") #2줄 실행이 되는 지 보는거. true면 들여쓰기 되는 부분을 다 실행해라.\n",
        "#if a==5:\n",
        "#    print(\"5와\")\n",
        "        #print(\"같습니다\") #이러면 오류 뜸. shift+tap으로 왔다갔다 가능함\n",
        "if a==5:\n",
        "    print(\"5와 같습니다.\")\n",
        "print(\"if문 밖으로 나옴. 여기서부터 계속 실행된다.\")  #10번도 쭉 내려오는 거임."
      ],
      "metadata": {
        "id": "k9QHOZ2b7w6u"
      },
      "execution_count": null,
      "outputs": []
    },
    {
      "cell_type": "code",
      "source": [
        "x=15\n",
        "if x>10:\n",
        "    print(\"10보다 크다.\")\n",
        "    if x==15:\n",
        "        print(\"15입니다\")\n",
        "    if x==20:\n",
        "        print(\"20입니다\") #10보다 크면서 15랑 같으니까 실행되어서 두 개가 들어옴. 맨 마지막은 건너뜀\n",
        "    a=1\n",
        "print(a)\n"
      ],
      "metadata": {
        "id": "Lxs3Z_wtP6-6"
      },
      "execution_count": null,
      "outputs": []
    },
    {
      "cell_type": "code",
      "source": [
        "x=15\n",
        "if x<10: #애초에 여길 통과 못해서 이 안에 x==15:가 있더라도 실행되지 않음!\n",
        "    print(\"10보다 크다.\")\n",
        "    if x==15:\n",
        "        print(\"15입니다\")\n",
        "    if x==20:\n",
        "        print(\"20입니다\").  #왜 아무것도 안 나왔나? 2번에서 false니까 처다도 안 보고 맨 아래로 간다는 것임."
      ],
      "metadata": {
        "id": "dlzITN8mQsgT"
      },
      "execution_count": null,
      "outputs": []
    },
    {
      "cell_type": "code",
      "source": [
        "x=15\n",
        "if x<10:\n",
        "    print(\"x는 10보다 작습니다 (10미만)\")\n",
        "else:    #if가 true면 else가 false, if가 false면 else로 가는 것임. 둘 중 하나는 true이고 false가 됨\n",
        "    print(\"그 이외 (10이상)\")\n",
        "    print(\"else도 들여쓰기 영역 모두 실행\")"
      ],
      "metadata": {
        "id": "NO298ee5Qwsi"
      },
      "execution_count": null,
      "outputs": []
    },
    {
      "cell_type": "code",
      "source": [
        "x=15\n",
        "if x<10:\n",
        "    print(\"10보다 크다.\")\n",
        "    if x==15:\n",
        "        print(\"15입니다\")\n",
        "    if x==20:\n",
        "        print(\"20입니다\")"
      ],
      "metadata": {
        "id": "d7J44IjnRcDa"
      },
      "execution_count": null,
      "outputs": []
    },
    {
      "cell_type": "code",
      "source": [
        "if True:\n",
        "    print(\"여기 들어온다\")\n",
        "else:\n",
        "    print(\"여기 안 들어와야\")\n",
        "\n",
        "if False:\n",
        "    print(\"여기 안 들어온다\")\n",
        "else:\n",
        "    print(\"여기 들어와야\")\n",
        "\n"
      ],
      "metadata": {
        "id": "mASe1kxcRlqi"
      },
      "execution_count": null,
      "outputs": []
    },
    {
      "cell_type": "code",
      "source": [
        "if 1:   #bool(-1)이 true. 0만 아니면 다 true 취급임.\n",
        "    print(\"0만 아니면 true 취급\")\n",
        "else:\n",
        "    print(\"여기 안 들어와야\")\n",
        "\n",
        "if 0:\n",
        "    print(\"0은 false 취급\")\n",
        "else:\n",
        "    print(\"따라서 여기로 들어올 것이다\")\n"
      ],
      "metadata": {
        "id": "L9jkElrIRwnQ"
      },
      "execution_count": null,
      "outputs": []
    },
    {
      "cell_type": "code",
      "source": [
        "if \"False\":   #bool(-1)이 true. 0만 아니면 다 true 취급임.\n",
        "    print(\"글자 있으면 true 취급\")\n",
        "else:\n",
        "    print(\"여기 안 들어와야\")\n",
        "\n",
        "if \"\":\n",
        "    print(\"빈 문자는은 false 취급\")\n",
        "else:\n",
        "    print(\"비어 있으면 이리로 옴\")\n"
      ],
      "metadata": {
        "id": "1rTGyBujSKZG"
      },
      "execution_count": null,
      "outputs": []
    },
    {
      "cell_type": "code",
      "source": [
        "print(bool(1))\n",
        "print(bool(0))\n",
        "print(bool(\"Hello\"))\n",
        "print(bool(\"\"))"
      ],
      "metadata": {
        "id": "e-inrv3DSXTE"
      },
      "execution_count": null,
      "outputs": []
    },
    {
      "cell_type": "code",
      "source": [
        "a=1\n",
        "b=2\n",
        "if a>0 and b>0:\n",
        "    print(\"둘다 맞아야만 들어옴\")\n",
        "else:\n",
        "    print(\"둘 중 하나라도 안 맞으면 여기로\")"
      ],
      "metadata": {
        "id": "LG1b6Nm-Sf3s"
      },
      "execution_count": null,
      "outputs": []
    },
    {
      "cell_type": "code",
      "source": [
        "a=1\n",
        "b=2\n",
        "if a>0 and b<0:\n",
        "    print(\"둘다 맞아야만 들어옴\")\n",
        "else:\n",
        "    print(\"둘 중 하나라도 안 맞으면 여기로\")"
      ],
      "metadata": {
        "id": "fGczJdRuTAbY"
      },
      "execution_count": null,
      "outputs": []
    },
    {
      "cell_type": "code",
      "source": [
        "a=1\n",
        "b=-1\n",
        "if a>0 or b>0:\n",
        "    print(\"둘 중 하나라도 맞으면 여기로\")\n",
        "else:\n",
        "    print(\"둘 다 맞으면 여기로\")"
      ],
      "metadata": {
        "id": "bgAF3gjwSzeP"
      },
      "execution_count": null,
      "outputs": []
    },
    {
      "cell_type": "code",
      "source": [
        "a=1\n",
        "b=-1\n",
        "if a<0 or b>0:\n",
        "    print(\"둘 중 하나라도 맞으면 여기로\")\n",
        "else:\n",
        "    print(\"둘 다 안 맞으면 여기로\")"
      ],
      "metadata": {
        "id": "DjxIwQShS_l6"
      },
      "execution_count": null,
      "outputs": []
    },
    {
      "cell_type": "code",
      "source": [
        "x=10\n",
        "if 0<x<20:\n",
        "    print(\"부등호 연달아 써도 된다\")"
      ],
      "metadata": {
        "id": "eSOypYhoTFGA"
      },
      "execution_count": null,
      "outputs": []
    },
    {
      "cell_type": "code",
      "source": [
        "x=25\n",
        "if 0<x<20:\n",
        "    print(\"부등호 연달아 써도 된다\")\n",
        "elif x<50: #0~20아니고, 50보다 작은가? #python은 elseif도 아니고 else if 가 아니고, elif임.\n",
        "    print(\"아니면 50보다 작은가?\")"
      ],
      "metadata": {
        "id": "KmkypfThTNsl"
      },
      "execution_count": null,
      "outputs": []
    },
    {
      "cell_type": "code",
      "source": [
        "x=5\n",
        "if 0<x<10:\n",
        "    print(\"10보다 작은가\") #가장 먼저 만족하는 애를 실행해줌. 그 아래도 맞지만 if다음 elif다 보니까 if가 맞으면 그 아래로 넘어가지 않음.\n",
        "elif x<100:\n",
        "    print(\"아니면 50보다 작은가?\")\n",
        "else:\n",
        "    print(\"둘다 아닌가? (10보다 작지도, 50보다 작지도 않은가?)\")"
      ],
      "metadata": {
        "id": "kw9fBRnrTQ-A"
      },
      "execution_count": null,
      "outputs": []
    },
    {
      "cell_type": "code",
      "source": [
        "x=2.   #특이한 걸 발견함. 여기서 내가 x=2라고 하지 않으면, x==2 라고 입력하고 실행하니까 이전에 x=4에 입력됐던 값이 반환됨. key-value가 그렇게 입력이 된듯.\n",
        "if x==1:   #그리고 x==1, x==2, x==3 이런걸로 하면 안 바뀜. 맨 처음 입력된 key-value에 맞춰 아래에서 그 값을 찾는 것으로 보임\n",
        "    print(\"1에 해당하는 무언가 실행\")\n",
        "elif x==2:\n",
        "    print(\"2에 해당하는 무언가 실행\")\n",
        "elif x==3:\n",
        "    print(\"3에 해당하는 무언가 실행\")\n",
        "elif x==4:   #else if는 제한이 없음\n",
        "    print(\"4에 해당하는 무언가 실행\")\n",
        "elif x==5:\n",
        "    print(\"5에 해당하는 무언가 실행\")\n",
        "else:\n",
        "    print(\"다른 무언가 실행\")\n",
        " #else는 무조건 가장 마지막에 단 하나만 남겨놔야함"
      ],
      "metadata": {
        "id": "62-Ilq0DUV1S"
      },
      "execution_count": null,
      "outputs": []
    },
    {
      "cell_type": "markdown",
      "source": [
        "## 반복문!"
      ],
      "metadata": {
        "id": "VqNJ3_umVgM_"
      }
    },
    {
      "cell_type": "code",
      "source": [
        "print(\"Hello!\")\n",
        "print(\"Hello!\")\n",
        "print(\"Hello!\")\n",
        "print(\"Hello!\")\n",
        "print(\"Hello!\") #"
      ],
      "metadata": {
        "id": "YiBFNSAwUt_L"
      },
      "execution_count": null,
      "outputs": []
    },
    {
      "cell_type": "code",
      "source": [
        "for i in range(5):\n",
        "    print(\"Hello!\")"
      ],
      "metadata": {
        "id": "7_wrcQUdVnZ0"
      },
      "execution_count": null,
      "outputs": []
    },
    {
      "cell_type": "code",
      "source": [
        "for i in range(5,12):   #range(5) <- 0,1,2,3,4, 으로부터 i라는 이름으로 하나씩 꺼내서 그 i에 대해 아래를 실행해라\n",
        "    print(i) #print를 다섯 번 했다는 뜻임."
      ],
      "metadata": {
        "id": "953AnzoLVrAm"
      },
      "execution_count": null,
      "outputs": []
    },
    {
      "cell_type": "code",
      "source": [
        "for i in range(5,12,2):\n",
        "    print(i)"
      ],
      "metadata": {
        "id": "GvNiJfNhVtLA"
      },
      "execution_count": null,
      "outputs": []
    },
    {
      "cell_type": "code",
      "source": [
        "for i in range(10,0,-1):\n",
        "    print(i)"
      ],
      "metadata": {
        "id": "EL6wNdyHWNDu"
      },
      "execution_count": null,
      "outputs": []
    },
    {
      "cell_type": "code",
      "source": [
        "list(reversed(range(10)))"
      ],
      "metadata": {
        "id": "d-49JpcmWQ5i"
      },
      "execution_count": null,
      "outputs": []
    },
    {
      "cell_type": "code",
      "source": [
        "for i in [0.4, 0.1, 0.67, -0.2]:   #list를 in을 해서 하나씩 꺼내오는 것도 가능함\n",
        "    print(i)"
      ],
      "metadata": {
        "id": "LvNSC2VkWbJv"
      },
      "execution_count": null,
      "outputs": []
    },
    {
      "cell_type": "code",
      "source": [
        "a = [\"apple\", \"banana\", \"carrot\", \"d\", \"e\"] #python 문법이 허용하는 거임. 반복 가능한 객체에 대해서는 반복문이 돌아감\n",
        "for i in a:\n",
        "    print(i)"
      ],
      "metadata": {
        "id": "T-e5xqb2Wrnz"
      },
      "execution_count": null,
      "outputs": []
    },
    {
      "cell_type": "code",
      "source": [
        "for i in range (len(a)): #파이썬 스럽지 않다..!\n",
        "    print(a[i])\n",
        "#list에는 별 것 다 올 수 있음."
      ],
      "metadata": {
        "id": "osgoo5_6W2Ve"
      },
      "execution_count": null,
      "outputs": []
    },
    {
      "cell_type": "code",
      "source": [
        "a = \"Hello\"#python 문법이 허용하는 거임. 반복 가능한 객체에 대해서는 반복문이 돌아감\n",
        "for i in a:\n",
        "    print(i) #print에는 nu line - 엔터 \"₩n\" 가 항상 들어가있음"
      ],
      "metadata": {
        "id": "QEAf4ExBXk72"
      },
      "execution_count": null,
      "outputs": []
    },
    {
      "cell_type": "code",
      "source": [
        "a = \"Hello\" #python 문법이 허용하는 거임. 반복 가능한 객체에 대해서는 반복문이 돌아감\n",
        "for i in a:\n",
        "    print(i, end=\"\")"
      ],
      "metadata": {
        "id": "6luE3yOSXnBv"
      },
      "execution_count": null,
      "outputs": []
    },
    {
      "cell_type": "code",
      "source": [
        "for i in range(3):\n",
        "    for j in range(3):\n",
        "        print(i,j)"
      ],
      "metadata": {
        "id": "9T1JRz4TX3rQ"
      },
      "execution_count": null,
      "outputs": []
    },
    {
      "cell_type": "code",
      "source": [
        "i=0\n",
        "while i<5: #i가 5보다 작은 \"동안에\" 반복적으로 실행한다는 뜻.\n",
        "    print(i) #for문과 조건문이 함께 들어가있는 느낌임. i=0 인 상태로 계속 도는 것임 빠져나갈리가 없음... 컴퓨터 죽을때까지...실행 중단을 눌러줘야 함. Ctrl+Mi로 꺼야함\n",
        "    i +=1 #i = i +1 과 같음\n",
        "print()\n",
        "print(\"i=\",i)"
      ],
      "metadata": {
        "id": "W7WN2Ax4YCg0"
      },
      "execution_count": null,
      "outputs": []
    },
    {
      "cell_type": "code",
      "source": [
        "i=0\n",
        "while True:\n",
        "    print(i)\n",
        "    i +=1 #이렇게 하면 조건이 True이기 때문에 계속 쭉쭉 올라감... 조건이 True로 되어있으니까.. True면 돌아라.. 되어 있으니까.\n",
        "    if i ==5:\n",
        "        break #가장 가까운 반복문을 튀어나가게 되어있음. #만약 while 위에 또 while이 있으면 또 부쉬지 못함."
      ],
      "metadata": {
        "id": "-ZldDq76Yhqn"
      },
      "execution_count": null,
      "outputs": []
    },
    {
      "cell_type": "code",
      "source": [
        "for i in range(10000000000):\n",
        "    print(i) #i에서 하나씩 꺼내서 도달할때까지... 1주일 걸림..\n",
        "    if i==5:\n",
        "        break #만나면 끝내는 게 for 문임.\n",
        "print(i). #while 하고는 뭔가 조금 다름"
      ],
      "metadata": {
        "id": "1f19ONTEZFaD"
      },
      "execution_count": null,
      "outputs": []
    },
    {
      "cell_type": "code",
      "source": [
        "EPOCH = 10\n",
        "for i in range(EPOCH): #디깅이 해보고 싶음.. 값이 궁금.. iteration계속 돌면 지저분해짐. 그때 써먹기 좋음\n",
        "    asd = 1\n",
        "    print(asd)   #break 만나기 전까지 내 코드가 돌아가고 있는 지 확인해볼 수 있다. 그런식으로 확인해볼 수 있음. 만약 잘 돌아갔으면 그 아래 코드로 break로 넘겨봄\n",
        "    break"
      ],
      "metadata": {
        "id": "NVKHaQwLZgcE"
      },
      "execution_count": null,
      "outputs": []
    },
    {
      "cell_type": "code",
      "source": [
        "for i in range(10):\n",
        "    if i % 2 ==0:   #홀짝홀짝에서 짝수일 때 들어오고, 0에서 그냥 끝남. continue는 건너 뛰어라.  i & 2 = 0: 이라고 하면 실행 안됨\n",
        "        continue #continue는 만남녀 그 밑으로는 안하고 하던 반복 마저 돌아감\n",
        "    print(i)"
      ],
      "metadata": {
        "id": "Kbp5evH8Zyf4"
      },
      "execution_count": null,
      "outputs": []
    },
    {
      "cell_type": "code",
      "source": [
        "i=0\n",
        "while i<10:\n",
        "    i+=1\n",
        "    if i%2==0:\n",
        "        continue\n",
        "    print(i)"
      ],
      "metadata": {
        "id": "S0jrEm5TaV1L"
      },
      "execution_count": null,
      "outputs": []
    },
    {
      "cell_type": "code",
      "source": [
        "a=[1,2,3,4,5]\n",
        "for i in range(len(a)): #length a 만큼 돌아라. 항상 \"0번째\"라고 말해야 함\n",
        "    print(i, \"번째에\", a[i], \"가 들어있어요\")"
      ],
      "metadata": {
        "id": "o59H4yRUbCj6"
      },
      "execution_count": null,
      "outputs": []
    },
    {
      "cell_type": "markdown",
      "source": [
        "## for 문과 함께 자주 쓰이는 enumerate"
      ],
      "metadata": {
        "id": "1jJQQ98EbWum"
      }
    },
    {
      "cell_type": "code",
      "source": [
        "a=[1,2,3,4,5]\n",
        "j=1\n",
        "for i in a:\n",
        "    print(j, \"번째에\", i, \"가 들어있어요\")\n",
        "    j+=1"
      ],
      "metadata": {
        "id": "Ob48zfPObODw"
      },
      "execution_count": null,
      "outputs": []
    },
    {
      "cell_type": "code",
      "source": [
        "a=[1,2,3,4,5]\n",
        "for i, val in enumerate(a):\n",
        "    print(i, \"번째에\", val, \"가 들어있어요\")"
      ],
      "metadata": {
        "id": "VbYWO2qQbhgW"
      },
      "execution_count": null,
      "outputs": []
    },
    {
      "cell_type": "code",
      "source": [
        "a=[1,2,3,4,5]\n",
        "for i, val in enumerate(a, start=1):\n",
        "    print(i, \"번째에\", val, \"가 들어있어요\")"
      ],
      "metadata": {
        "id": "2bmNroUIb3G-"
      },
      "execution_count": null,
      "outputs": []
    },
    {
      "cell_type": "markdown",
      "source": [
        "##반복문 과제"
      ],
      "metadata": {
        "id": "QEClfzgocKk7"
      }
    },
    {
      "cell_type": "code",
      "source": [
        "print(\"*\")\n",
        "print(\"**\")\n",
        "print(\"***\")\n",
        "print(\"****\")"
      ],
      "metadata": {
        "colab": {
          "base_uri": "https://localhost:8080/"
        },
        "id": "vERMe30WcEIP",
        "outputId": "139a4f97-887c-4496-cfa7-a2358d04dc5d"
      },
      "execution_count": null,
      "outputs": [
        {
          "output_type": "stream",
          "name": "stdout",
          "text": [
            "*\n",
            "**\n",
            "***\n",
            "****\n"
          ]
        }
      ]
    },
    {
      "cell_type": "code",
      "source": [
        "a=\"\"\n",
        "for i in range(4):\n",
        "    a += \"*\"\n",
        "    print(a)\n",
        "\n",
        "for i in range(1,5):\n",
        "    print(\"*\"*i)\n",
        "\n",
        "for i in range (1,5):\n",
        "    for j in range(i):\n",
        "        print(\"*\", end=\"\")\n",
        "    print()\n",
        "\n",
        "i=1\n",
        "while i<5:\n",
        "    print(\"*\"*i)\n",
        "    i+=1\n",
        "\n",
        "i=\"*\"\n",
        "while True:\n",
        "    print(i)\n",
        "    i+=\"*\"\n",
        "    if i == \"*****\":\n",
        "        break\n",
        "\n",
        "i=\"*\"\n",
        "while i!=\"*****\":\n",
        "    print(i)\n",
        "    i+=\"*\""
      ],
      "metadata": {
        "id": "cOpk1Mh2cPhc"
      },
      "execution_count": null,
      "outputs": []
    },
    {
      "cell_type": "markdown",
      "source": [
        "##리스트 심화"
      ],
      "metadata": {
        "id": "cNiKDN2FdkrZ"
      }
    },
    {
      "cell_type": "code",
      "source": [
        "a=[1,2,3]\n",
        "a.append(4)\n",
        "print(a,\"len(a)=\", len(a))"
      ],
      "metadata": {
        "id": "a85T-9Zrcerx"
      },
      "execution_count": null,
      "outputs": []
    },
    {
      "cell_type": "code",
      "source": [
        "a=[1,2,3]\n",
        "a.append([4,5])\n",
        "print(a,\"len(a)=\", len(a)) #리스트 속에 리스트를 넣는 것임."
      ],
      "metadata": {
        "id": "G-p_IkUxdwe6"
      },
      "execution_count": null,
      "outputs": []
    },
    {
      "cell_type": "code",
      "source": [
        "a=[1,2,3]\n",
        "a += [4,5]\n",
        "print(a,\"len(a)=\", len(a))"
      ],
      "metadata": {
        "id": "3q88Mffld9gH"
      },
      "execution_count": null,
      "outputs": []
    },
    {
      "cell_type": "code",
      "source": [
        "a=[1,2,3]\n",
        "a.insert(1,100) #index, 넣을거\n",
        "print(a)"
      ],
      "metadata": {
        "id": "22IupItheCg7"
      },
      "execution_count": null,
      "outputs": []
    },
    {
      "cell_type": "code",
      "source": [
        "a=[1,2,3]\n",
        "a.insert(1,[100,200]) #index, 넣을 거\n",
        "print(a)"
      ],
      "metadata": {
        "id": "eq81qCLleJ8K"
      },
      "execution_count": null,
      "outputs": []
    },
    {
      "cell_type": "code",
      "source": [
        "a=[1,2,3,]\n",
        "b=[100,200]\n",
        "a[1:1]=b\n",
        "print(a)"
      ],
      "metadata": {
        "id": "kG9usiWhePwl"
      },
      "execution_count": null,
      "outputs": []
    },
    {
      "cell_type": "code",
      "source": [
        "a=[1,2,3]\n",
        "a.pop()\n",
        "#a.pop()\n",
        "print(a)"
      ],
      "metadata": {
        "id": "bzHklID-ehcp"
      },
      "execution_count": null,
      "outputs": []
    },
    {
      "cell_type": "code",
      "source": [
        "a=[1,2,3]\n",
        "a.pop(1) #index 1에 해당하는 값을 빼버림\n",
        "#a.pop()\n",
        "print(a)"
      ],
      "metadata": {
        "id": "iLpd1Q5yetX9"
      },
      "execution_count": null,
      "outputs": []
    },
    {
      "cell_type": "code",
      "source": [
        "a=[1,2,3,4,3,5,3]\n",
        "a.remove(3) #얘는 3을 찾아서 없애줌\n",
        "print(a) #중복되어 있으면 가장 왼쪽에 있는 애가 빠짐\n",
        "a.remove(3)\n",
        "print(a)\n",
        "a.remove(3)\n",
        "print(a) #다 빠진 상태에서 하면 없다는 에러가 뜸"
      ],
      "metadata": {
        "id": "YRx6Ru5Wezr3"
      },
      "execution_count": null,
      "outputs": []
    },
    {
      "cell_type": "code",
      "source": [
        "a=[1,2,3,4,3,5,3]\n",
        "a.index(3) #가장 처음에 나오는 3의 index"
      ],
      "metadata": {
        "id": "2BBNp6iGe7xf"
      },
      "execution_count": null,
      "outputs": []
    },
    {
      "cell_type": "code",
      "source": [
        "a=[1,2,3,2,2,2] #c언어로 하면 다 짜야할텐데\n",
        "a.count(2) #다 준비가 되어 있음"
      ],
      "metadata": {
        "id": "lI4j8wf0fNro"
      },
      "execution_count": null,
      "outputs": []
    },
    {
      "cell_type": "code",
      "source": [
        "a=[1,2,3,4,5]\n",
        "a.reverse()\n",
        "print(a)"
      ],
      "metadata": {
        "id": "dzztvTBMfSmN"
      },
      "execution_count": null,
      "outputs": []
    },
    {
      "cell_type": "code",
      "source": [
        "a=[1,5,1,2,6,1,7]\n",
        "a.sort()\n",
        "print(a) #오름차순"
      ],
      "metadata": {
        "id": "hpA1x3-jfVI8"
      },
      "execution_count": null,
      "outputs": []
    },
    {
      "cell_type": "code",
      "source": [
        "a=[1,5,1,2,6,1,7]\n",
        "a.sort(reverse=True)\n",
        "print(a) #내림차순"
      ],
      "metadata": {
        "id": "5nlH5PQxjfDO"
      },
      "execution_count": null,
      "outputs": []
    },
    {
      "cell_type": "code",
      "source": [
        "a=[1,2,3]\n",
        "a.clear()\n",
        "print(a) #del은 아에 없었던 것처럼. clear는 비도록 함"
      ],
      "metadata": {
        "id": "mSEd4K4tjnj7"
      },
      "execution_count": null,
      "outputs": []
    },
    {
      "cell_type": "code",
      "source": [
        "a=[1,2,3,]\n",
        "b=a\n",
        "b[1]=10\n",
        "print(\"a=\", a,\"b=\",b) #이걸 보면 다 없어짐. 그래서 a를 카피해서 b에 넣어줘야함 b=a를 해버리면 이름이 두 개인 같은 존재가 됨\n",
        "a is b"
      ],
      "metadata": {
        "id": "hRpoopD6jyzX"
      },
      "execution_count": null,
      "outputs": []
    },
    {
      "cell_type": "code",
      "source": [
        "a=[1,2,3,]\n",
        "b=a.copy()\n",
        "b[1]=10\n",
        "print(\"a=\", a,\"b=\",b)\n",
        "a is b"
      ],
      "metadata": {
        "id": "66-Evd4Ij9EV"
      },
      "execution_count": null,
      "outputs": []
    },
    {
      "cell_type": "code",
      "source": [
        "a=[1,2,3]\n",
        "b=a.copy()\n",
        "a is b # is 의 결과가 true면 값이 같이 바뀐다. false면 같이 안 바뀌었던 것임."
      ],
      "metadata": {
        "id": "j6DtoyGqj_xX"
      },
      "execution_count": null,
      "outputs": []
    },
    {
      "cell_type": "code",
      "source": [
        "a=[1,2,3]\n",
        "print(min(a))\n",
        "print(max(a))\n",
        "print(sum(a))\n",
        "print(round(1.51561391,3)) #이 중에 round를 가장 잘 쓰게 되는듯.."
      ],
      "metadata": {
        "id": "G2bBGseokCyI"
      },
      "execution_count": null,
      "outputs": []
    },
    {
      "cell_type": "markdown",
      "source": [
        "##리스트 표현식"
      ],
      "metadata": {
        "id": "BwGiAV5xkV3Z"
      }
    },
    {
      "cell_type": "code",
      "source": [
        "a=[i for i in range(5)] #반복문 같은 건데 다른 것임. list 표현식으로 다른 문법임. #range(5) 안의 각각의 값들을 i라는 이름으로 각각 불러오고 i 값으로 리스트를 형성\n",
        "print(a)"
      ],
      "metadata": {
        "id": "OE17FsyPkLZ0"
      },
      "execution_count": null,
      "outputs": []
    },
    {
      "cell_type": "code",
      "source": [
        "a=[i+5 for i in range(5)]\n",
        "print(a)\n",
        "[1,2,3,4,5]+[5] #하나씩 더하는 게 안됨.. list에게 더하기라 함음 하나씩 값을 꺼내서 해야함."
      ],
      "metadata": {
        "id": "GG762V5GknHo"
      },
      "execution_count": null,
      "outputs": []
    },
    {
      "cell_type": "code",
      "source": [
        "a=[ i*2 for i in range(5)]\n",
        "print(a)"
      ],
      "metadata": {
        "id": "yIdXfrmvkvOE"
      },
      "execution_count": null,
      "outputs": []
    },
    {
      "cell_type": "code",
      "source": [
        "a=[i-j for i in range(1,5)\n",
        "        for j in range(1,5)] #앞에서 부터 읽어라. 즉, 뒷 셀에서 for 문으로 풀어쓰면..\n",
        "print(a)"
      ],
      "metadata": {
        "id": "gej36f1do1O2"
      },
      "execution_count": null,
      "outputs": []
    },
    {
      "cell_type": "code",
      "source": [
        "a=[]\n",
        "for i in range(1,5):\n",
        "    for j in range(1,5):\n",
        "        a += [i-j]\n",
        "print(a)"
      ],
      "metadata": {
        "id": "NbFK4T7ppC62"
      },
      "execution_count": null,
      "outputs": []
    },
    {
      "cell_type": "code",
      "source": [
        "a=[i for i in range(10) if i%2==0] #range(10) 안의 각각의 값들을 i 라는 이름으로 각각 불러오고\n",
        "#i 마다 조건문을 보고 True일 때만 i 값으로 리스트를 형성해라 라는 뜻임.\n",
        "print(a)"
      ],
      "metadata": {
        "id": "lDxoZ5yhpOnx"
      },
      "execution_count": null,
      "outputs": []
    },
    {
      "cell_type": "code",
      "source": [
        "a=[i for i in range(10) if i < 5]\n",
        "print(a)"
      ],
      "metadata": {
        "id": "MuPeffvNpub-"
      },
      "execution_count": null,
      "outputs": []
    },
    {
      "cell_type": "markdown",
      "source": [
        "##리스트 속에 리스트"
      ],
      "metadata": {
        "id": "jbUV4AZLqUhs"
      }
    },
    {
      "cell_type": "code",
      "source": [
        "a=[1,2,3,[1,2,3],[4,5]] #matlab에서 온 사람들을 헷갈림.. 행렬같은데 그냥 리스트 안에 리스트임. 묶여있는 리스트다.\n",
        "#a = [\"하나\", \"둘\"] 처럼 두 개의 무언가가 ㄹㅣ스트로 적혀 있는 것. 즉, 리스트 안에 리스트로 [첫 번째 리스트, 두 번째 리스트] 인 것임\n",
        "print(a,\"len(a)=\", len(a))\n",
        "b = [[1,2,3,], [4,5,6]]\n",
        "print(b)"
      ],
      "metadata": {
        "id": "4QXpTJSyqAxR"
      },
      "execution_count": null,
      "outputs": []
    },
    {
      "cell_type": "code",
      "source": [
        "a=[[1,2,3],[4,6]]\n",
        "print(a[0]) #0번째 것이 1,2,3, 1번째 것이 4,6\n",
        "print(a[1])\n",
        "print(a[0][0])  #a[0] 번의 값이 [1,2,3] 인데 여기서 0번째를 뽑아라 는 말임\n",
        "print(a[0][0], a[0][1], a[0][2], a[1][0], a[1][1])\n",
        "a[1][1] = 500\n",
        "print(a)"
      ],
      "metadata": {
        "id": "zpB11ZbEq2bh"
      },
      "execution_count": null,
      "outputs": []
    },
    {
      "cell_type": "code",
      "source": [
        "a=[[1,2,3],[4,5,6]]\n",
        "\n",
        "for i in a:\n",
        "    print(i)\n",
        "    print()\n",
        "\n",
        "    for x,y,z in a:\n",
        "        print(x,y,z)\n",
        "print()\n",
        "\n",
        "for i in a:\n",
        "    for j in i:\n",
        "        print(j,end=\" \")\n",
        "    print()\n",
        "print()\n",
        "\n",
        "for i in range(len(a)):\n",
        "    for j in range(len(a[i])):  #i 번째 행이 가지는 열의 개수는 len(a[i])\n",
        "        print(a[i][j], end=\" \")\n",
        "    print()"
      ],
      "metadata": {
        "id": "F7k1BfGDq-s4"
      },
      "execution_count": null,
      "outputs": []
    },
    {
      "cell_type": "code",
      "source": [
        "a=[]\n",
        "for i in range(3):\n",
        "    line =[]\n",
        "    for i in range(2):\n",
        "        line += [0]\n",
        "    a += [line]\n",
        "print(a)"
      ],
      "metadata": {
        "id": "EK3UvCC0rdPc"
      },
      "execution_count": null,
      "outputs": []
    },
    {
      "cell_type": "code",
      "source": [
        "a=[[0 for i in range(2)] for j in range(3)]\n",
        "print(a)"
      ],
      "metadata": {
        "id": "40Bd2iP9sOV5"
      },
      "execution_count": null,
      "outputs": []
    },
    {
      "cell_type": "code",
      "source": [
        "a= [[i*0 for i in range(2)] for i in range(3)]\n",
        "print(a)"
      ],
      "metadata": {
        "id": "uxLvJ1YxtGw5"
      },
      "execution_count": null,
      "outputs": []
    },
    {
      "cell_type": "code",
      "source": [
        "a=[[0]*2 for _ in range(3)]\n",
        "print(a)\n",
        "b=[[0]*2]*3\n",
        "print(b)"
      ],
      "metadata": {
        "id": "-KD9otr1tLcb"
      },
      "execution_count": null,
      "outputs": []
    },
    {
      "cell_type": "code",
      "source": [
        "a=[3,1,3,2]\n",
        "b=[]\n",
        "for i in a:\n",
        "    line=[]\n",
        "    for j in range(i):\n",
        "        line += [0]\n",
        "    b += [line]\n",
        "print(b)"
      ],
      "metadata": {
        "id": "cIJcAdhctScn"
      },
      "execution_count": null,
      "outputs": []
    },
    {
      "cell_type": "code",
      "source": [
        "a=[3,1,3,2]\n",
        "b=[[0]*i for i in a]  #list 표현식에 익숙해지면.. 이게 좋다라는 걸 알게 됨. python 표현식. 응용을 만나면 파워풀해짐. 고급 스킬이 됨\n",
        "print(b)"
      ],
      "metadata": {
        "id": "6Vi2-XKYto34"
      },
      "execution_count": null,
      "outputs": []
    },
    {
      "cell_type": "code",
      "source": [
        "a=[[1,2],[3,4]]\n",
        "b=a.copy()  #copy가 왜 ㅏㄴ되지..? 속에 있는 것까지 뜯어서 하고 싶으면 deepcopy를 해야함\n",
        "b[0][0]=100\n",
        "print(a,b)"
      ],
      "metadata": {
        "id": "ll5gCLtlt05n"
      },
      "execution_count": null,
      "outputs": []
    },
    {
      "cell_type": "code",
      "source": [
        "import copy\n",
        "a=[[1,2],[3,4]]\n",
        "b=copy.deepcopy(a)\n",
        "b[0][0]=100\n",
        "print(a,b)"
      ],
      "metadata": {
        "id": "alE0P_9juNwL"
      },
      "execution_count": null,
      "outputs": []
    },
    {
      "cell_type": "markdown",
      "source": [
        "##헷갈리는 리스트 표현식 -> 앞에서부터 써내려가며 for문 만들면 된다!"
      ],
      "metadata": {
        "id": "hO1zb4cCuY_C"
      }
    },
    {
      "cell_type": "code",
      "source": [
        "print([i for i in range(3) for j in range(3)])\n",
        "a=[]\n",
        "for i in range(3):\n",
        "    for j in range(3):\n",
        "        a += [i]\n",
        "print(a)"
      ],
      "metadata": {
        "id": "R3rZ4tOwucJQ"
      },
      "execution_count": null,
      "outputs": []
    },
    {
      "cell_type": "markdown",
      "source": [
        "##Print 응용"
      ],
      "metadata": {
        "id": "bHpUVksXyPZ-"
      }
    },
    {
      "cell_type": "code",
      "source": [
        "a=1\n",
        "b=2\n",
        "c=\"zz\"\n",
        "\n",
        "print(\"a=\", a, \"b=\",b, \"c=\",c)"
      ],
      "metadata": {
        "id": "W4bNDiFgul2V"
      },
      "execution_count": null,
      "outputs": []
    },
    {
      "cell_type": "code",
      "source": [
        "a=1\n",
        "b=2\n",
        "c=\"zz\"\n",
        "\n",
        "print(\"a={num1}, b={num2}, c={str1}\".format(str1=c,num1=a,num2=b)) #괄호 안에 숫자는 헷갈릴 수 있음 차라리 이름 정해주는 게 좋을도 있음"
      ],
      "metadata": {
        "id": "3vxZ3BoiyWmS"
      },
      "execution_count": null,
      "outputs": []
    },
    {
      "cell_type": "code",
      "source": [
        "a=1\n",
        "b=2\n",
        "c=\"zz\"\n",
        "\n",
        "print(f\"a={a}, b={b}, c={c}\") #이렇게 하면 진짜 편리함"
      ],
      "metadata": {
        "id": "qLA1FYYwyiAM"
      },
      "execution_count": null,
      "outputs": []
    },
    {
      "cell_type": "markdown",
      "source": [
        "## 텍스트 파일 만들고 쓰기"
      ],
      "metadata": {
        "id": "r4Z0tznbzIZF"
      }
    },
    {
      "cell_type": "code",
      "source": [
        "import os\n",
        "folder_name=\"saved\"\n",
        "if not os.path.exists(folder_name): #saved가 있냐\n",
        "    os.makedirs(folder_name)\n",
        "\n",
        "with open(\"saved/Hello.txt\", \"w\") as f: #열린 채로 아래를 실행해란 뜻임. 나가면 fclose 되란 말임\n",
        "    f.write(\"Hellow World!₩n\")\n",
        "    f.write(\"Hellow World!2₩n\")\n",
        "    f.write(\"Hellow World!3₩n\")"
      ],
      "metadata": {
        "id": "mtSF_MtMzCBm"
      },
      "execution_count": null,
      "outputs": []
    },
    {
      "cell_type": "code",
      "source": [
        "with open(\"saved/Hello.txt\", \"r\") as f:\n",
        "    s=f.read()\n",
        "print(s)\n",
        "type(s)"
      ],
      "metadata": {
        "id": "8fuxe07i0Fxw"
      },
      "execution_count": null,
      "outputs": []
    },
    {
      "cell_type": "code",
      "source": [
        "with open(\"saved/Hello.txt\", \"r\") as f:\n",
        "    s=f.readline() #한줄씩 list에 넣는다\n",
        "    print(s)\n",
        "len(s)"
      ],
      "metadata": {
        "id": "ggcjyGGA0lCf"
      },
      "execution_count": null,
      "outputs": []
    },
    {
      "cell_type": "code",
      "source": [
        "with open(\"saved/Hello.txt\", \"r\") as f:\n",
        "    for i in range(3):\n",
        "        s=f.readline() # for 랑 같이 써서 한줄씩 읽을 수도\n",
        "        print(s)"
      ],
      "metadata": {
        "id": "a40ccmfz03em"
      },
      "execution_count": null,
      "outputs": []
    },
    {
      "cell_type": "code",
      "source": [
        "with open(\"saved/Hello.txt\", \"r\") as f:\n",
        "    line= \"\"\n",
        "    while line != \"\":\n",
        "        line=f.readline()\n",
        "        s=f.readline()\n",
        "        print(s)"
      ],
      "metadata": {
        "id": "JLlc4_041DGv"
      },
      "execution_count": null,
      "outputs": []
    },
    {
      "cell_type": "markdown",
      "source": [
        "##코딩의 꽃! 함수"
      ],
      "metadata": {
        "id": "HQniOgHj2KWr"
      }
    },
    {
      "cell_type": "code",
      "source": [
        "def f(x): #x라는 이름의 변수를 입력으로 받아 x**2을 출력하는 f라는 이름의 함수를 정의해라 (define)\n",
        "    return x**2\n",
        "\n",
        "f(-2) #function call. print라는 함수를 여태 부른 것이다"
      ],
      "metadata": {
        "id": "Zrq1d_qc1YVD"
      },
      "execution_count": null,
      "outputs": []
    },
    {
      "cell_type": "code",
      "source": [
        "def say():\n",
        "    print(\"Hello World!\")\n",
        "say()"
      ],
      "metadata": {
        "id": "of-_mreJ2YXI"
      },
      "execution_count": null,
      "outputs": []
    },
    {
      "cell_type": "code",
      "source": [
        "def add(a,b):\n",
        "    print(a+b)\n",
        "add(1,2)"
      ],
      "metadata": {
        "id": "fNWRYxVE2oTx"
      },
      "execution_count": null,
      "outputs": []
    },
    {
      "cell_type": "code",
      "source": [
        "def add(a,b):\n",
        "    return a+b\n",
        "\n",
        "c = add(1,2) #결과가 c에 들어가있음\n",
        "print(c)"
      ],
      "metadata": {
        "id": "Wy2HbGcq2yor"
      },
      "execution_count": null,
      "outputs": []
    },
    {
      "cell_type": "code",
      "source": [
        "def add(a,b):  #a,b 는 매개변수. c는 로컬 변수임.\n",
        "    c = a+b #로컬 변수는 안에서 열람이 안 됨\n",
        "    return c\n",
        "print(add(1,2))\n",
        "print(c) #런타임 다시 시작 이후 실행하면 a,b,c 변수명은 함수 안에서만 쓰인 것!"
      ],
      "metadata": {
        "colab": {
          "base_uri": "https://localhost:8080/"
        },
        "id": "kByG-k9_26CO",
        "outputId": "d9df58cb-74e1-4f06-e7d6-db96b05127bc"
      },
      "execution_count": null,
      "outputs": [
        {
          "output_type": "stream",
          "name": "stdout",
          "text": [
            "3\n",
            "3\n"
          ]
        }
      ]
    },
    {
      "cell_type": "code",
      "source": [
        "# call by assignment라는 게있음.\n",
        "def f(x):\n",
        "    x[0]=5\n",
        "\n",
        "a=[1,2]\n",
        "f(a)\n",
        "print(a)"
      ],
      "metadata": {
        "colab": {
          "base_uri": "https://localhost:8080/"
        },
        "id": "7cPHkrtD3Tum",
        "outputId": "6a6f9c9d-4d2d-4987-8eb4-441fe693fab9"
      },
      "execution_count": null,
      "outputs": [
        {
          "output_type": "stream",
          "name": "stdout",
          "text": [
            "[5, 2]\n"
          ]
        }
      ]
    },
    {
      "cell_type": "code",
      "source": [
        "def f(a):\n",
        "    a=5\n",
        "a=3\n",
        "f(a)\n",
        "print(a)\n",
        "\n",
        "#call by assignment\n",
        "def f(x):\n",
        "    x[0]=5 #내부에서 리스트 자체에 접근하면 (mutable 하면 속 값이 변해서 밖에서도 변해있음!)\n",
        "\n",
        "a=[1,2]\n",
        "f(a)\n",
        "print(a)"
      ],
      "metadata": {
        "colab": {
          "base_uri": "https://localhost:8080/"
        },
        "id": "FIAZG7S44F2O",
        "outputId": "cef8f7db-32e8-4a0d-c5d8-736dd3470a8d"
      },
      "execution_count": null,
      "outputs": [
        {
          "output_type": "stream",
          "name": "stdout",
          "text": [
            "3\n",
            "[5, 2]\n"
          ]
        }
      ]
    },
    {
      "cell_type": "code",
      "source": [
        "def add_sub(a,b):\n",
        "    c=a+b\n",
        "    d=a-b\n",
        "    return c,d\n",
        "x = add_sub(10,20) #하나로 받으면? 튜플로 묶어서 줌\n",
        "print(x)"
      ],
      "metadata": {
        "colab": {
          "base_uri": "https://localhost:8080/"
        },
        "id": "_0VenKqZ4XxH",
        "outputId": "717758d2-3c8b-4945-a2e8-e68574088e08"
      },
      "execution_count": null,
      "outputs": [
        {
          "output_type": "stream",
          "name": "stdout",
          "text": [
            "(30, -10)\n"
          ]
        }
      ]
    },
    {
      "cell_type": "code",
      "source": [
        "def add(a,b):\n",
        "    return a+b\n",
        "def mul(a,b):\n",
        "    return a*b\n",
        "def show_addmul(a,b): #a=10, b=20 을 실행함. 그다음몇번째로 가는거지. 6번줄로 감. 6번줄로 1번으로감. 2번줄로 가고. 6번으로 오고. 출력을 하고 7번 시작.\n",
        "    print(add(a,b))\n",
        "    print(mul(a,b))\n",
        "\n",
        "show_addmul(10,20)\n",
        "\n",
        "#print(x)\n",
        "print(x[0])\n",
        "print(x[1])"
      ],
      "metadata": {
        "colab": {
          "base_uri": "https://localhost:8080/"
        },
        "id": "KqIAyqUb4lLU",
        "outputId": "c3277d29-3303-4c89-dd39-b4fb276d1fa5"
      },
      "execution_count": null,
      "outputs": [
        {
          "output_type": "stream",
          "name": "stdout",
          "text": [
            "30\n",
            "200\n",
            "30\n",
            "-10\n"
          ]
        }
      ]
    },
    {
      "cell_type": "code",
      "source": [
        "x=(10,20) #튜플임\n",
        "print(x)\n",
        "print(*x) # 언패킹이라고 함. 소괄호를 없애줌.\n",
        "show_addmul(*x) #왜 에러가 나는지 보면 b가 빠졌다고 뜸 a=x가 됨. 그런데 x=(10,20) 이 들어간 거. 따라서 10만 준거랑 같은거임.\n",
        "x=10,20\n",
        "print(x) #지가 묶어버림..\n",
        "type(x)\n",
        "show_addmul(x)"
      ],
      "metadata": {
        "colab": {
          "base_uri": "https://localhost:8080/",
          "height": 269
        },
        "id": "9yKxlf4I47ue",
        "outputId": "88c3c3bd-fb8b-4148-bec7-4f549a9c7cd0"
      },
      "execution_count": null,
      "outputs": [
        {
          "output_type": "stream",
          "name": "stdout",
          "text": [
            "(10, 20)\n",
            "10 20\n",
            "30\n",
            "200\n",
            "(10, 20)\n"
          ]
        },
        {
          "output_type": "error",
          "ename": "TypeError",
          "evalue": "show_addmul() missing 1 required positional argument: 'b'",
          "traceback": [
            "\u001b[0;31m---------------------------------------------------------------------------\u001b[0m",
            "\u001b[0;31mTypeError\u001b[0m                                 Traceback (most recent call last)",
            "\u001b[0;32m<ipython-input-59-3667c739a36f>\u001b[0m in \u001b[0;36m<cell line: 0>\u001b[0;34m()\u001b[0m\n\u001b[1;32m      6\u001b[0m \u001b[0mprint\u001b[0m\u001b[0;34m(\u001b[0m\u001b[0mx\u001b[0m\u001b[0;34m)\u001b[0m \u001b[0;31m#지가 묶어버림..\u001b[0m\u001b[0;34m\u001b[0m\u001b[0;34m\u001b[0m\u001b[0m\n\u001b[1;32m      7\u001b[0m \u001b[0mtype\u001b[0m\u001b[0;34m(\u001b[0m\u001b[0mx\u001b[0m\u001b[0;34m)\u001b[0m\u001b[0;34m\u001b[0m\u001b[0;34m\u001b[0m\u001b[0m\n\u001b[0;32m----> 8\u001b[0;31m \u001b[0mshow_addmul\u001b[0m\u001b[0;34m(\u001b[0m\u001b[0mx\u001b[0m\u001b[0;34m)\u001b[0m\u001b[0;34m\u001b[0m\u001b[0;34m\u001b[0m\u001b[0m\n\u001b[0m",
            "\u001b[0;31mTypeError\u001b[0m: show_addmul() missing 1 required positional argument: 'b'"
          ]
        }
      ]
    },
    {
      "cell_type": "code",
      "source": [
        "def my_func(*a): #a는 튜플로 패킹되어 있다. 언패킹 상태로 받았으니, a는 패킹되어있는 상태란 거임. 언패킹해서 주면 묶어서 받는다는 것임. 보통은 args:arguments라 함\n",
        "    print(f\"a 에는 {a}가 들어가 있다. 타입은 {type(a)} 라고 한다\")\n",
        "\n",
        "my_func(1)"
      ],
      "metadata": {
        "colab": {
          "base_uri": "https://localhost:8080/"
        },
        "id": "_iWQJbFI50FP",
        "outputId": "3a882293-f8eb-47f9-eec0-9f39952b032c"
      },
      "execution_count": null,
      "outputs": [
        {
          "output_type": "stream",
          "name": "stdout",
          "text": [
            "a 에는 (1,)가 들어가 있다. 타입은 <class 'tuple'> 라고 한다\n"
          ]
        }
      ]
    },
    {
      "cell_type": "code",
      "source": [
        "def my_func(*args): #a는 튜플로 패킹되어 있다. 언패킹 상태로 받았으니, a는 패킹되어있는 상태란 거임. 언패킹해서 주면 묶어서 받는다는 것임. 보통은 args:arguments라 함\n",
        "    print(f\"a 에는 {args}가 들어가 있다. 타입은 {type(args)} 라고 한다\")\n",
        "    for i in args:\n",
        "        print(i)\n",
        "\n",
        "my_func(1,2,3,4,5)"
      ],
      "metadata": {
        "colab": {
          "base_uri": "https://localhost:8080/"
        },
        "id": "gJSzng7u6pmv",
        "outputId": "00e12cb5-da11-4cd6-c85c-30a3a49c5a6e"
      },
      "execution_count": null,
      "outputs": [
        {
          "output_type": "stream",
          "name": "stdout",
          "text": [
            "a 에는 (1, 2, 3, 4, 5)가 들어가 있다. 타입은 <class 'tuple'> 라고 한다\n",
            "1\n",
            "2\n",
            "3\n",
            "4\n",
            "5\n"
          ]
        }
      ]
    },
    {
      "cell_type": "code",
      "source": [
        "def my_func(*args):\n",
        "    for i in args:\n",
        "        print(i)\n",
        "my_func(\"구독자1\")\n",
        "my_func(\"구독자1\", \"구독자2\", \"구독자3\")\n",
        "#구독자 이름을 print하려는데 가변적임"
      ],
      "metadata": {
        "colab": {
          "base_uri": "https://localhost:8080/"
        },
        "id": "ON_obqmJ7R-m",
        "outputId": "08cc3b47-27ca-4d53-af88-8248e1ad30a6"
      },
      "execution_count": null,
      "outputs": [
        {
          "output_type": "stream",
          "name": "stdout",
          "text": [
            "구독자1\n",
            "구독자1\n",
            "구독자2\n",
            "구독자3\n"
          ]
        }
      ]
    },
    {
      "cell_type": "code",
      "source": [
        "def introduce(name, age, address):\n",
        "    print(f\"이름은 {name}이고 나이는 {age}살이고 사는 데는 {address}이다\")\n",
        "\n",
        "introduce(\"혁펜\", 100, \"한국\")\n",
        "introduce(\"혁펜\", \"한국\", 100)\n",
        "introduce(name=\"혁펜\", address=\"한국\", age=100)\n",
        "\n",
        "name=\"환영\"\n",
        "address=\"한국\" #왼쪽은 introduce안에 변수명. 오른쪽 네임은 없는 것. 줘야하는 것임\n",
        "age=100\n",
        "introduce(name=name, address=address, age=age)"
      ],
      "metadata": {
        "colab": {
          "base_uri": "https://localhost:8080/"
        },
        "id": "0I6ufDk07eds",
        "outputId": "f12396eb-4d65-41c1-b9c9-cf33ac64351f"
      },
      "execution_count": null,
      "outputs": [
        {
          "output_type": "stream",
          "name": "stdout",
          "text": [
            "이름은 혁펜이고 나이는 100살이고 사는 데는 한국이다\n",
            "이름은 혁펜이고 나이는 한국살이고 사는 데는 100이다\n",
            "이름은 혁펜이고 나이는 100살이고 사는 데는 한국이다\n",
            "이름은 환영이고 나이는 100살이고 사는 데는 한국이다\n"
          ]
        }
      ]
    },
    {
      "cell_type": "code",
      "source": [
        "def introduce1(name, age, address):\n",
        "    print(f\"이름은 {name}이고 나이는 {age}살이고 사는 데는 {address}이다\")\n",
        "def introduce2(name, age=\"\", address=\"비밀\"):  #디폴트 값이다!\n",
        "    print(f\"이름은 {name}이고 나이는 {age}살이고 사는 데는 {address}이다\")\n",
        "\n",
        "#introduce1(name=\"혁멘\", age=100) #error!\n",
        "introduce1(name=\"혁멘\", age=100, address=\"한국\") #error!\n",
        "introduce2(name=\"혁멘\", age=100) #나머지는 디폴트로! 디폴트가 없으면 에러가 뜸.\n",
        "#introduce2(age=100)\n",
        "\n",
        "def introduce4(name=\"비밀\", age=\"비밀\", address=\"비밀\"):  #디폴트 값이다!\n",
        "    print(f\"이름은 {name}이고 나이는 {age}살이고 사는 데는 {address}이다\")\n",
        "\n",
        "introduce4()"
      ],
      "metadata": {
        "colab": {
          "base_uri": "https://localhost:8080/"
        },
        "id": "XRg15VPE7yrV",
        "outputId": "8ca81e83-0390-4009-93eb-9cfb43443b0f"
      },
      "execution_count": null,
      "outputs": [
        {
          "output_type": "stream",
          "name": "stdout",
          "text": [
            "이름은 혁멘이고 나이는 100살이고 사는 데는 한국이다\n",
            "이름은 혁멘이고 나이는 100살이고 사는 데는 비밀이다\n",
            "이름은 비밀이고 나이는 비밀살이고 사는 데는 비밀이다\n"
          ]
        }
      ]
    },
    {
      "cell_type": "code",
      "source": [
        "d = {\"name\":\"혁펜\", \"age\":100, \"address\":\"한국\"}\n",
        "print(*d)\n",
        "introduce4(*d) #introduce4(\"name\",\"age\",\"address\")"
      ],
      "metadata": {
        "colab": {
          "base_uri": "https://localhost:8080/",
          "height": 199
        },
        "id": "TQhiKZMRTz8G",
        "outputId": "8a14d8fe-9ec4-41f6-a9b7-19b2a1b3ce5e"
      },
      "execution_count": 1,
      "outputs": [
        {
          "output_type": "stream",
          "name": "stdout",
          "text": [
            "name age address\n"
          ]
        },
        {
          "output_type": "error",
          "ename": "NameError",
          "evalue": "name 'introduce4' is not defined",
          "traceback": [
            "\u001b[0;31m---------------------------------------------------------------------------\u001b[0m",
            "\u001b[0;31mNameError\u001b[0m                                 Traceback (most recent call last)",
            "\u001b[0;32m<ipython-input-1-737c1a7d8d35>\u001b[0m in \u001b[0;36m<cell line: 0>\u001b[0;34m()\u001b[0m\n\u001b[1;32m      1\u001b[0m \u001b[0md\u001b[0m \u001b[0;34m=\u001b[0m \u001b[0;34m{\u001b[0m\u001b[0;34m\"name\"\u001b[0m\u001b[0;34m:\u001b[0m\u001b[0;34m\"혁펜\"\u001b[0m\u001b[0;34m,\u001b[0m \u001b[0;34m\"age\"\u001b[0m\u001b[0;34m:\u001b[0m\u001b[0;36m100\u001b[0m\u001b[0;34m,\u001b[0m \u001b[0;34m\"address\"\u001b[0m\u001b[0;34m:\u001b[0m\u001b[0;34m\"한국\"\u001b[0m\u001b[0;34m}\u001b[0m\u001b[0;34m\u001b[0m\u001b[0;34m\u001b[0m\u001b[0m\n\u001b[1;32m      2\u001b[0m \u001b[0mprint\u001b[0m\u001b[0;34m(\u001b[0m\u001b[0;34m*\u001b[0m\u001b[0md\u001b[0m\u001b[0;34m)\u001b[0m\u001b[0;34m\u001b[0m\u001b[0;34m\u001b[0m\u001b[0m\n\u001b[0;32m----> 3\u001b[0;31m \u001b[0mintroduce4\u001b[0m\u001b[0;34m(\u001b[0m\u001b[0;34m*\u001b[0m\u001b[0md\u001b[0m\u001b[0;34m)\u001b[0m \u001b[0;31m#introduce4(\"name\",\"age\",\"address\")\u001b[0m\u001b[0;34m\u001b[0m\u001b[0;34m\u001b[0m\u001b[0m\n\u001b[0m",
            "\u001b[0;31mNameError\u001b[0m: name 'introduce4' is not defined"
          ]
        }
      ]
    },
    {
      "cell_type": "code",
      "source": [
        "kwargs = {\"name\":\"혁펜\", \"age\":100,\"address\":\"한국\"}\n",
        "print(*d)\n",
        "introduce4(*d) # introduce4(\"name\", \"age\", \"address\") 문자열을 준 것임\n",
        "print({**d})\n",
        "introduce4(**d) #함수에 넘기면 어떨까? introduce4(name=\"혁펜\", age=100, address=\"한국\")와 동일함. **은 unpacking을 두 번 하는 것임.\n"
      ],
      "metadata": {
        "colab": {
          "base_uri": "https://localhost:8080/"
        },
        "id": "--P9moZr0ZB5",
        "outputId": "d1f43021-0eba-483e-e48d-fac74d403585"
      },
      "execution_count": null,
      "outputs": [
        {
          "output_type": "stream",
          "name": "stdout",
          "text": [
            "name age address\n",
            "이름은 name이고 나이는 age살이고 사는 데는 address이다\n",
            "{'name': '혁펜', 'age': 100, 'address': '한국'}\n",
            "이름은 혁펜이고 나이는 100살이고 사는 데는 한국이다\n"
          ]
        }
      ]
    },
    {
      "cell_type": "code",
      "source": [
        "def my_func(**kwargs): #kwargs: keward arguments, 딕셔너리로 묶어 받는다\n",
        "    print(f\"kwargs에는 {kwargs}가 들어가있다. 타입은 {type(kwargs)} 라고 한다\")\n",
        "\n",
        "my_func(name=\"혁펜\") #반드시 키워드도 줘야함. unpacking을 두 번 한 채로 받았기 때문에 k는 두 번 한 존재다. 얘는 바로 dic.라는 것임.\n",
        "my_func(name=\"혁펜\", age=100, address=\"한국\")"
      ],
      "metadata": {
        "colab": {
          "base_uri": "https://localhost:8080/"
        },
        "id": "5azQKZWbFp5g",
        "outputId": "665f2d4c-bb5a-4fb0-f644-69feda295348"
      },
      "execution_count": null,
      "outputs": [
        {
          "output_type": "stream",
          "name": "stdout",
          "text": [
            "kwargs에는 {'name': '혁펜'}가 들어가있다. 타입은 <class 'dict'> 라고 한다\n",
            "kwargs에는 {'name': '혁펜', 'age': 100, 'address': '한국'}가 들어가있다. 타입은 <class 'dict'> 라고 한다\n"
          ]
        }
      ]
    },
    {
      "cell_type": "code",
      "source": [
        "def introduce(**kwargs):\n",
        "    if \"name\" in kwargs: #\"name\"이라는 key가 kwargs에 있다면\n",
        "        print(\"이름은\", kwargs[\"name\"], \"입니다\")\n",
        "    if \"age\" in kwargs: #\"name\"이라는 key가 kwargs에 있다면\n",
        "        print(\"나이는\", kwargs[\"age\"], \"입니다\")\n",
        "    if \"address\" in kwargs: #\"name\"이라는 key가 kwargs에 있다면\n",
        "        print(\"사는 곳은\", kwargs[\"address\"], \"입니다\")\n",
        "\n",
        "introduce(name=\"혁펜\", age=100, address=\"한국\")\n",
        "introduce(name=\"혁펜\") #아깐 안 주면 \"비밀\"로 떴는데, 여기선 아예 뜨지도 않게 만듦"
      ],
      "metadata": {
        "colab": {
          "base_uri": "https://localhost:8080/"
        },
        "id": "CgSsqmT1GDJ4",
        "outputId": "218ebf66-8482-44f2-fa76-ba7e952b4949"
      },
      "execution_count": null,
      "outputs": [
        {
          "output_type": "stream",
          "name": "stdout",
          "text": [
            "이름은 혁펜 입니다\n",
            "나이는 100 입니다\n",
            "사는 곳은 한국 입니다\n",
            "이름은 혁펜 입니다\n"
          ]
        }
      ]
    },
    {
      "cell_type": "code",
      "source": [
        "#**이 붙은 애는 dic으로 보내는데, dic은 value만 있으면 안 되기 때문에 명시를 해줘야만 함. *args가 있고, **arg를 받고, 여기는 1,2,3은 arg에 들어감.\n",
        "# ** keywards args는 dictionary를 편하게 받게. 이름까지도 마음대로 받게. 그래서 introduce를 할 때 introduce(1,2,3,4,)이건 args인데,\n",
        "#이거 순서도 내맘대로 LR, BATCH size도 주고 그러는데, 여기서 learning rate을 쓰고 싶으면, kwargs[\"LR\"]이렇게 해주면 알아서 이렇게 들어가기도 하고,\n",
        "#**로 하면 kwargs에 들어가니까 줄줄이 써줄 필요가 없다. 다 받을 필요 없이 묶어 받고, 이름과 값을 같이 넘겨 받을래 그 뜻임. args는 값을 넘겨 받을래? 이고\n",
        "#kwargs는 이름을 붙여서 받는 거라고 보면 됨. 이름의 순서 상관없이 묶어서 받겠단 것임.\n",
        "#dictionary를 받기 위함이라기 보단.. 넘겨줄때 편하게 넘기고 받을 때 편하게 받기 위함\n",
        "#디폴트 값을 정할 녀석들을 모두 뒤쪽으로. 디폴트 주고 안 주고 그러면 안 됨. name인지 age인지 모호해지면 안 됨.\n",
        "#key와 value가 같이 들어간다고 보면 됨. keyword arguments는, **은 dictionary로 넘겨주는 건데, 둘 다 있어야함. 별 arg는 입력으로부터 해방.\n",
        "#** keyword args는 dictionary를 편하게 받을 수 있게. 이름까지도 마음대로 줄 수 있게\n",
        "#순서도 내 마음대로 LR=LR, BATCH=BATCH를 줄 수 있는데, 굳이 LR을 넘겨주고 하지 않아도, 순서를 맞추거나 할 필요 없이, **로 해주면 keyword args로 들어가니까\n",
        "#줄줄이 하나씩 써줄 필요가 없음.\n",
        "# *args, **kwargs."
      ],
      "metadata": {
        "id": "e3uvwsXfG00M"
      },
      "execution_count": null,
      "outputs": []
    },
    {
      "cell_type": "code",
      "source": [
        "def f(**k):\n",
        "    if \"a\" in k:\n",
        "        print(k[\"a\"]) #이건 하나를 준 것. 못 넘겨받아서 문제라기 보단, 묶어서 받고 싶어서라고 이해하면 됨\n",
        "    if \"b\" in k:\n",
        "        print(k[\"b\"])\n",
        "f(a=2)"
      ],
      "metadata": {
        "colab": {
          "base_uri": "https://localhost:8080/"
        },
        "id": "K6xLLr_uIz4P",
        "outputId": "a64ca7cf-cc55-4484-93e4-7d0ed595e60a"
      },
      "execution_count": null,
      "outputs": [
        {
          "output_type": "stream",
          "name": "stdout",
          "text": [
            "2\n"
          ]
        }
      ]
    },
    {
      "cell_type": "code",
      "source": [
        "def f(a,b):\n",
        "    print(a) #이걸 dictionary없이 한다고 하면 하나하나 받아줘야 했는데, 위랑 아래랑 차이는, 아래는 b를 안 주면 안되는데, 위에는 안 줘도 괜찮음. 자유도가 높아짐!\n",
        "    print(b)\n",
        "f(a=2,b=4) #얘는 b를 안 주면 안 됨, 위에는 b를 안 줘도 됨. 자유도가 높아짐. 얘는 반드시 a,b를 줘야만 함"
      ],
      "metadata": {
        "colab": {
          "base_uri": "https://localhost:8080/"
        },
        "id": "jz6swHevI6g-",
        "outputId": "6cc0e074-1e0e-4cb9-b92b-673847eb63a7"
      },
      "execution_count": null,
      "outputs": [
        {
          "output_type": "stream",
          "name": "stdout",
          "text": [
            "2\n",
            "4\n"
          ]
        }
      ]
    },
    {
      "cell_type": "markdown",
      "source": [
        "##재귀함수\n"
      ],
      "metadata": {
        "id": "EHyrzxS_MT-3"
      }
    },
    {
      "cell_type": "code",
      "source": [
        "def say():  #함수를 함수 내에서 또 콜 하는 걸 재귀함수라고 함\n",
        "    print(\"Hello World!\")\n",
        "    say()\n",
        "\n",
        "#say() #실제 실행은 여기서 하는 것임. 콜을 하면 5번에서 1번으로 가고, 3번으로 가고, 다시 1번줄, 마치 while문처럼 계속 끝도없이 돌아가다가 멈출 것임."
      ],
      "metadata": {
        "id": "8rv6RMGIMQ7B"
      },
      "execution_count": null,
      "outputs": []
    },
    {
      "cell_type": "markdown",
      "source": [],
      "metadata": {
        "id": "SC9blNcTMSi-"
      }
    },
    {
      "cell_type": "code",
      "source": [
        "def say(count):\n",
        "    if count==0:\n",
        "        return #return을 만나면 함수가 종료 된다! count가 0이면 끝나는 것임\n",
        "    print(\"Hello World!\")\n",
        "    count -= 1 #count = count-1 이라는 뜻임 빼서 부른다.\n",
        "    say(count)\n",
        "\n",
        "say(3) #8번에서 1 가고 0이 아니니까 또 가고, 계속 반복됨. 카운트가 2인 상태로 들어감. return을 만나면 종료가 되는 것임. return이 없으면 마지막줄까지 가고 끝이 나는 개념."
      ],
      "metadata": {
        "colab": {
          "base_uri": "https://localhost:8080/"
        },
        "id": "2FOke5L-Nkph",
        "outputId": "c9f0c475-0af1-468a-9331-ccc7080fec8d"
      },
      "execution_count": null,
      "outputs": [
        {
          "output_type": "stream",
          "name": "stdout",
          "text": [
            "Hello World!\n",
            "Hello World!\n",
            "Hello World!\n"
          ]
        }
      ]
    },
    {
      "cell_type": "code",
      "source": [
        "def factorial(n):\n",
        "    if n == 1:\n",
        "        return 1\n",
        "    return n*factorial(n-1)\n",
        "\n",
        "factorial(5)"
      ],
      "metadata": {
        "colab": {
          "base_uri": "https://localhost:8080/"
        },
        "id": "o0pN4ysbNkmB",
        "outputId": "cede2a0c-72ea-432a-9b8f-3629a23d1af7"
      },
      "execution_count": null,
      "outputs": [
        {
          "output_type": "execute_result",
          "data": {
            "text/plain": [
              "120"
            ]
          },
          "metadata": {},
          "execution_count": 7
        }
      ]
    },
    {
      "cell_type": "markdown",
      "source": [
        "## 로컬변수와 글로벌 변수"
      ],
      "metadata": {
        "id": "sX_Esd2cOz39"
      }
    },
    {
      "cell_type": "code",
      "source": [
        "EPOCH = 2  #전체 데이터를 두 번 반복한다는 것\n",
        "BATCH = 5  #5개씩 끊어 본다. 데이터가 15개라면 5개씩 끊어서 보겠다. 여기서는 대문자로 글로별 변수를 구분했음 글로벌 변수라고 하고,\n",
        "\n",
        "def train(weight): #weight는 매개변수라고 함. train은 함수. 여기서 weight=0을 실행한다고 봄. 밖에서 받은 0을 집어 넣는다. 이걸 업데이트 해보자.\n",
        "    x = 1 #x는 로컬 변수라고 함.\n",
        "    for i in range(EPOCH): #글로벌은 안에서도 쓸 수 있다.\n",
        "        for j in range(BATCH):\n",
        "            print(f\"{i} 번째 Epoch 이며 {j}번째 batch 입니다\")\n",
        "            weight += 1\n",
        "    return weight\n",
        "\n",
        "train(0)\n",
        "#print(x)#로컬 변수라서 밖에서 보면 없는 존재\n",
        "#x=2 여기서 x=2라고 정의하면 또 다른 말이 됨.\n"
      ],
      "metadata": {
        "colab": {
          "base_uri": "https://localhost:8080/"
        },
        "id": "cOa6B0Z_OznR",
        "outputId": "67d7ae51-b67e-40b7-f158-b566ecc96a14"
      },
      "execution_count": 2,
      "outputs": [
        {
          "output_type": "stream",
          "name": "stdout",
          "text": [
            "0 번째 Epoch 이며 0번째 batch 입니다\n",
            "0 번째 Epoch 이며 1번째 batch 입니다\n",
            "0 번째 Epoch 이며 2번째 batch 입니다\n",
            "0 번째 Epoch 이며 3번째 batch 입니다\n",
            "0 번째 Epoch 이며 4번째 batch 입니다\n",
            "1 번째 Epoch 이며 0번째 batch 입니다\n",
            "1 번째 Epoch 이며 1번째 batch 입니다\n",
            "1 번째 Epoch 이며 2번째 batch 입니다\n",
            "1 번째 Epoch 이며 3번째 batch 입니다\n",
            "1 번째 Epoch 이며 4번째 batch 입니다\n"
          ]
        },
        {
          "output_type": "execute_result",
          "data": {
            "text/plain": [
              "10"
            ]
          },
          "metadata": {},
          "execution_count": 2
        }
      ]
    },
    {
      "cell_type": "code",
      "source": [
        "def f():\n",
        "    global x\n",
        "    x=20\n",
        "    print(x) #위에 x라는 변수를 글로벌로 쓸거야. 바깥에서도 쓸거다 알려주는 것임. 안에서 글로별 변수를 만들 수 있음. (밖에서는 굳이 global 안 붙여도 global임)\n",
        "f()\n",
        "print(x) #만약에 global을 # 처리하면 바깥에서 안 보임"
      ],
      "metadata": {
        "id": "QIyqvboGOool",
        "colab": {
          "base_uri": "https://localhost:8080/"
        },
        "outputId": "848e0324-711f-4861-bbdd-f56d5a22507f"
      },
      "execution_count": 5,
      "outputs": [
        {
          "output_type": "stream",
          "name": "stdout",
          "text": [
            "20\n",
            "20\n"
          ]
        }
      ]
    },
    {
      "cell_type": "code",
      "source": [
        "x=10\n",
        "def f():\n",
        "    x=100\n",
        "    print(x)\n",
        "    #=100\n",
        "    #print(x)\n",
        "f() #글로벌 변수를 안에서 쓸 수 있음. durltjsms fhzjf qustnrk cnffur\n",
        "print(x) # 이름은 같은데 저장된 메모리 주소 자체가 다름. 글로벌 변수가 출력됨"
      ],
      "metadata": {
        "colab": {
          "base_uri": "https://localhost:8080/"
        },
        "id": "hVpD6tuZZVip",
        "outputId": "3072ba2e-5ef7-4048-a0e0-ee9fe8024ca2"
      },
      "execution_count": 9,
      "outputs": [
        {
          "output_type": "stream",
          "name": "stdout",
          "text": [
            "100\n",
            "10\n"
          ]
        }
      ]
    },
    {
      "cell_type": "code",
      "source": [
        "x=10\n",
        "def f():\n",
        "    global x\n",
        "    x=20\n",
        "    print(x)\n",
        "f() #로컬 변수가 출력됨\n",
        "print(x) #global이 변해버림"
      ],
      "metadata": {
        "colab": {
          "base_uri": "https://localhost:8080/"
        },
        "id": "Sx-3oL6FZYW-",
        "outputId": "6ead2649-bbb2-4c36-ff0c-0c5edee6e00d"
      },
      "execution_count": 11,
      "outputs": [
        {
          "output_type": "stream",
          "name": "stdout",
          "text": [
            "20\n",
            "20\n"
          ]
        }
      ]
    },
    {
      "cell_type": "markdown",
      "source": [
        "##람다 표현식"
      ],
      "metadata": {
        "id": "m9C9BK2Dace_"
      }
    },
    {
      "cell_type": "code",
      "source": [
        "def plus_ten(x):\n",
        "    return x+10\n",
        "plus_ten(10)"
      ],
      "metadata": {
        "colab": {
          "base_uri": "https://localhost:8080/"
        },
        "id": "cR8OaU7jaauF",
        "outputId": "61f2e5af-6d3e-44b4-d4a4-9abcde38e67b"
      },
      "execution_count": 15,
      "outputs": [
        {
          "output_type": "execute_result",
          "data": {
            "text/plain": [
              "20"
            ]
          },
          "metadata": {},
          "execution_count": 15
        }
      ]
    },
    {
      "cell_type": "code",
      "source": [
        "plus_ten = lambda x: x+10 #입력이 x, 출력이 x+10\n",
        "plus_ten(10)"
      ],
      "metadata": {
        "colab": {
          "base_uri": "https://localhost:8080/"
        },
        "id": "5FCyJ1CGakbj",
        "outputId": "5b9b8461-9542-4274-e3b8-0cb50d8c33f5"
      },
      "execution_count": 17,
      "outputs": [
        {
          "output_type": "execute_result",
          "data": {
            "text/plain": [
              "20"
            ]
          },
          "metadata": {},
          "execution_count": 17
        }
      ]
    },
    {
      "cell_type": "code",
      "source": [
        "(lambda x: x+10)(10) #뭔가 list같은 걸 할 때, list 표현식 해볼까, lambda 표현식을 해볼까 해보면 파이썬 떠나기 힘듦.\n",
        "#리스트의 그런 것들이나, 람다 표현식 등등 굉장히 편하게 쓸 수 있게 만들어 놓은 게 많음. 세 줄이 한 줄 된 것임"
      ],
      "metadata": {
        "colab": {
          "base_uri": "https://localhost:8080/"
        },
        "id": "LSEeL4eAawG-",
        "outputId": "ae98cef6-2e90-42e6-b213-270fe8d7709d"
      },
      "execution_count": 20,
      "outputs": [
        {
          "output_type": "execute_result",
          "data": {
            "text/plain": [
              "20"
            ]
          },
          "metadata": {},
          "execution_count": 20
        }
      ]
    },
    {
      "cell_type": "code",
      "source": [
        "def plus_ten(x):\n",
        "    return x+10\n",
        "print(list(map(plus_ten, [1,2,3]))) #함수를 매개변수로 넘겨줌. 함수 이름을 넘겨 받는 것임, 리스트 각각에 함수를 통과시켜 준 것임.\n",
        "#map이라는 건 함수를 입력으로 받는 함수다.\n",
        "#넣은 녀석들(list)을 넣어주면 여러번 call해서 값을 얻는다\n",
        "print(list(map(lambda x:x+10, [1,2,3]))) #축약이 됨."
      ],
      "metadata": {
        "colab": {
          "base_uri": "https://localhost:8080/"
        },
        "id": "W_tm1LTFbDKI",
        "outputId": "7b17e7cd-d87c-43f4-fd26-9f7c799df3a6"
      },
      "execution_count": 23,
      "outputs": [
        {
          "output_type": "stream",
          "name": "stdout",
          "text": [
            "[11, 12, 13]\n",
            "[11, 12, 13]\n"
          ]
        }
      ]
    },
    {
      "cell_type": "code",
      "source": [
        "#만약 입력이 두 개라면?\n",
        "f= lambda a,b:a+b #콤마로 여러 개 입력 가능\n",
        "f(10,20)"
      ],
      "metadata": {
        "colab": {
          "base_uri": "https://localhost:8080/"
        },
        "id": "x-cyug2ZbjB8",
        "outputId": "6746d166-d49e-49b7-84b5-62289ecae63d"
      },
      "execution_count": 27,
      "outputs": [
        {
          "output_type": "execute_result",
          "data": {
            "text/plain": [
              "30"
            ]
          },
          "metadata": {},
          "execution_count": 27
        }
      ]
    },
    {
      "cell_type": "code",
      "source": [
        "f = lambda a,b:a+b\n",
        "print(list(map(f,[1,2,3], [2,3,4]))) #하나 하나 가져옴. 두 개 입력에 대해\n"
      ],
      "metadata": {
        "colab": {
          "base_uri": "https://localhost:8080/"
        },
        "id": "JiYW50Xzbsh-",
        "outputId": "0163a33e-b77f-48a7-efcf-55bd3448dc79"
      },
      "execution_count": 29,
      "outputs": [
        {
          "output_type": "stream",
          "name": "stdout",
          "text": [
            "[3, 5, 7]\n"
          ]
        }
      ]
    },
    {
      "cell_type": "code",
      "source": [
        "def add_1(a,b):\n",
        "    c=1\n",
        "    return a+b+c\n",
        "print(add_1(10,20))\n",
        "\n",
        "#lambda a,b:c=1, a+b+c #def 안에서 변수 선언해서 쓸 수 있는데 lambda는 아님"
      ],
      "metadata": {
        "colab": {
          "base_uri": "https://localhost:8080/"
        },
        "id": "3BRu9RtBb7CW",
        "outputId": "63f936ef-a7e6-4348-94af-770452a82186"
      },
      "execution_count": 33,
      "outputs": [
        {
          "output_type": "stream",
          "name": "stdout",
          "text": [
            "31\n"
          ]
        }
      ]
    },
    {
      "cell_type": "code",
      "source": [
        "def add_mul(a,b):\n",
        "    return a+b, a*b\n",
        "\n",
        "add_mul(10,20)\n",
        "\n",
        "#(lambda a,b:a+b, a*b)(10,20)\n",
        "# 두 개 출력은 안 됨"
      ],
      "metadata": {
        "colab": {
          "base_uri": "https://localhost:8080/"
        },
        "id": "vhkBTamocoPH",
        "outputId": "009dd6d5-176a-4957-b5a9-d8ad2936b9f3"
      },
      "execution_count": 34,
      "outputs": [
        {
          "output_type": "execute_result",
          "data": {
            "text/plain": [
              "(30, 200)"
            ]
          },
          "metadata": {},
          "execution_count": 34
        }
      ]
    },
    {
      "cell_type": "code",
      "source": [
        "def func(x):\n",
        "    if x%2 == 0:\n",
        "        return 2*x\n",
        "    else:\n",
        "        return x\n",
        "print(list(map(func, [1,2,3,4])))\n",
        "\n",
        "f=lambda x:2*x if x%2==0 else x\n",
        "print(list(map(func, [1,2,3,4])))\n",
        "\n",
        "#f = lambda x:2*x if x%2==0 #람다 표현식으로 if 썼으면 반드시 else도 필요! 컴퓨터 아키텍처적인 문제임"
      ],
      "metadata": {
        "colab": {
          "base_uri": "https://localhost:8080/"
        },
        "id": "e4UMUGBtc9cD",
        "outputId": "82c9592c-bcc5-4ef7-87d3-11f2cdd5204b"
      },
      "execution_count": 38,
      "outputs": [
        {
          "output_type": "stream",
          "name": "stdout",
          "text": [
            "[1, 4, 3, 8]\n",
            "[1, 4, 3, 8]\n"
          ]
        }
      ]
    },
    {
      "cell_type": "code",
      "source": [
        "def func(x):\n",
        "    if x==1:\n",
        "        return 2*x\n",
        "    elif x==2:\n",
        "        return 3*x\n",
        "    else:\n",
        "        return x\n",
        "print(list(map(func,[1,2,3,4,])))\n",
        "\n",
        "#if ~~:\n",
        "#else ~\n",
        "#    if ~ #이게 elif 임\n",
        "\n",
        "f=lambda x:2*x if x==1 else 3*x if x==2 else x  #elif는 안쓰고 else 이거 출력. if ~~ 이런 식으로 표현해야 함. 많은 줄을 확 줄여줌.\n",
        "print(list(map(func, [1,2,3,4,])))"
      ],
      "metadata": {
        "colab": {
          "base_uri": "https://localhost:8080/"
        },
        "id": "0S8ufZrGdzv1",
        "outputId": "72842e39-003e-44c7-aa06-5a0c39f88d08"
      },
      "execution_count": 42,
      "outputs": [
        {
          "output_type": "stream",
          "name": "stdout",
          "text": [
            "[2, 6, 3, 4]\n",
            "[2, 6, 3, 4]\n"
          ]
        }
      ]
    },
    {
      "cell_type": "markdown",
      "source": [],
      "metadata": {
        "id": "IjaQ0MGwfL2P"
      }
    },
    {
      "cell_type": "markdown",
      "source": [
        "##클래스. 가장 중요!"
      ],
      "metadata": {
        "id": "LR5h1pkyfL49"
      }
    },
    {
      "cell_type": "code",
      "source": [
        "#로봇을 만든다고 해보자 -> 로봇의 키가 몇이고 몸무게가 몇이고. 안녕이라고 말하면서 인사를 하는 기능이 있고..\n",
        "#클래스는 좀 큰 변수를 만드는 것. a=1 은 숫자 한 개 들어간 변수.\n",
        "#a에 숫자 한 개도 넣고 리스트도 넣고 그것들을 가지고 뭔가 기능을 하는 함수를 만들어 넣고 그럴 순 없을까? 여기서 시작했다고 봐도 되겠음\n",
        "#객체 지향 프로그래밍 (object oriented programming. 클래스를 활용하는 것. OOP)\n",
        "class Robot:\n",
        "    def greeting(self): #메서드(method): 클래스 내부의 함수, 첫 번째 매개변수는 무조건 self (인스턴스 자기자신)\n",
        "        print(\"Hello\")\n",
        "\n",
        "bot1 = Robot() #Robot 이라는 클래스에 해당하는 instance 만들기 (실체화). 나중에는 입력도 넣을거라 () 붙여야 함. 함수를 콜하듯이 붙이는 문법임.\n",
        "bot1.greeting() # 쩜은 \"이놈이 가지고 있는\" 정도의 의미. bot1이 가지고 있는 greeting이라는 함수를 콜 한다는 의미."
      ],
      "metadata": {
        "colab": {
          "base_uri": "https://localhost:8080/"
        },
        "id": "oQA1wYQsfOJc",
        "outputId": "a9580f22-1800-4ba5-d2d4-adc77247d2b8"
      },
      "execution_count": 44,
      "outputs": [
        {
          "output_type": "stream",
          "name": "stdout",
          "text": [
            "Hello\n"
          ]
        }
      ]
    },
    {
      "cell_type": "code",
      "source": [
        "a=[1,2,3] #list도 사실 클래였음. 인스턴스 생성\n",
        "a.append(4) # a라는 이름의 인스턴스가 append라는 이름의 method 실행\n",
        "print(type(1))"
      ],
      "metadata": {
        "colab": {
          "base_uri": "https://localhost:8080/"
        },
        "id": "Z8PNH6w1gyLX",
        "outputId": "92c9da0c-9416-42f0-cfbf-5dbc81fe3871"
      },
      "execution_count": 49,
      "outputs": [
        {
          "output_type": "stream",
          "name": "stdout",
          "text": [
            "<class 'int'>\n"
          ]
        }
      ]
    },
    {
      "cell_type": "code",
      "source": [
        "class Robot:\n",
        "    def __init__(self): #initialize라서 init이고, 인스턴스 생성 즉시 이 함수부터 최우선 순위로 들어오고 실행해달라는 뜻임\n",
        "    # 이 함수명은 약속된 이름이다 (special method) 라고 부름\n",
        "        print(\"__init__으로 들어옴\")\n",
        "bot1 = Robot() #인스턴스 만드는 동시에 __init__ 함수 실행"
      ],
      "metadata": {
        "colab": {
          "base_uri": "https://localhost:8080/"
        },
        "id": "de0pbxxehFuR",
        "outputId": "735eaba0-48c8-4df2-8e08-44da008ddeab"
      },
      "execution_count": 52,
      "outputs": [
        {
          "output_type": "stream",
          "name": "stdout",
          "text": [
            "__init__으로 들어옴\n"
          ]
        }
      ]
    },
    {
      "cell_type": "code",
      "source": [
        "class Robot:\n",
        "    def __init__(self):\n",
        "        self.sentence = \"안녕\" #자기 자신이 가지고 있는 무언가. 로봇 주머니에 sentence를 넣어라.\n",
        "        #self는 만들어진 인스턴스 자기자신 자체를 가리키고,\n",
        "        #self.무엇 은 self 내부의 것(변수, 함수)을 가리킴\n",
        "        #클래스 내부의 변수는 속성(attribute)이라고 한다.\n",
        "\n",
        "    def greeting(self):\n",
        "        #print(sentence) # error !\n",
        "        print(self.sentence) #주머니에서 sentence를 꺼내 쓴다\n",
        "\n",
        "bot1 = Robot()\n",
        "bot1.greeting()\n"
      ],
      "metadata": {
        "colab": {
          "base_uri": "https://localhost:8080/"
        },
        "id": "xdPpYfjxhvox",
        "outputId": "2a025c1b-f718-415e-b8cd-e75d42b3133f"
      },
      "execution_count": 57,
      "outputs": [
        {
          "output_type": "stream",
          "name": "stdout",
          "text": [
            "안녕\n"
          ]
        }
      ]
    },
    {
      "cell_type": "code",
      "source": [
        "class Robot:\n",
        "    def __init__(self, height, sentence): #밖에서 넘어오는 매개변수는 무조건 self 뒤에\n",
        "        self.height = height #self.height는 밖에서 들어온 height랑은 다른 거임\n",
        "        #클래스 내부에서 써먹으려고 주머니에 넣은 것\n",
        "        self.sentence = sentence\n",
        "    def greeting(self):\n",
        "        print(self.sentence)\n",
        "        print(f\"제 키는 {self.height}이에요\")\n",
        "\n",
        "bot1=Robot(180, \"안녕\") #180이 height으로 들어가고, sentence에 안녕이 들어감\n",
        "bot1.greeting()\n",
        "\n",
        "print(bot1.height)\n",
        "print(bot1.sentence)\n",
        "bot1.height -=10\n",
        "bot1.greeting()\n",
        "\n",
        "bot2=Robot(160,\"하이\") #규칙을 만들어 놓으면, 또다른 존재를 만들 수 있음. 만약 이렇지 않으면 아래와 같이 해줘야함\n",
        "bot2.greeting()\n",
        "print(bot2.height)\n",
        "print(bot2.sentence)"
      ],
      "metadata": {
        "colab": {
          "base_uri": "https://localhost:8080/"
        },
        "id": "usDW73yukruv",
        "outputId": "d8bbbf2e-e7a2-4505-d379-d438c761b792"
      },
      "execution_count": 68,
      "outputs": [
        {
          "output_type": "stream",
          "name": "stdout",
          "text": [
            "안녕\n",
            "제 키는 180이에요\n",
            "180\n",
            "안녕\n",
            "안녕\n",
            "제 키는 170이에요\n",
            "하이\n",
            "제 키는 160이에요\n",
            "160\n",
            "하이\n"
          ]
        }
      ]
    },
    {
      "cell_type": "code",
      "source": [
        "#bot1_height\n",
        "#bot1_sentence\n",
        "\n",
        "#bot2_height\n",
        "#bot2_sentence 위처럼 안하면 이렇게 하나하나 다 해줘야함"
      ],
      "metadata": {
        "id": "bKaMfUKvl8VM"
      },
      "execution_count": 69,
      "outputs": []
    },
    {
      "cell_type": "code",
      "source": [
        "class Robot:\n",
        "    def __init__(self, height, sentence):\n",
        "        self.__height = height #self.height를 밖에서 쓰기 금지로 만드려면? __ 이거 두 개 추가하면 비공개로 만들고 싶은 속성 추가\n",
        "        self.sentence = sentence\n",
        "    def greeting(self):\n",
        "        print(self.sentence)\n",
        "        self.__height -= 10 #클래스 내부에서는 변형 가능\n",
        "        print(f\"제 키는 {self.__height}이에요\")\n",
        "\n",
        "bot1 = Robot(180, \"hi\")\n",
        "bot1.greeting()\n",
        "#print(bot1.__height) #이렇게 하면 없다고 해버림\n",
        "print(bot1.sentence)\n",
        "#bot1.__height -= 10 # error! self.height는 밖에서 접근이 안된다..!\n",
        "bot1.sentence = \"ㅋ\"\n",
        "print(bot1.sentence)"
      ],
      "metadata": {
        "colab": {
          "base_uri": "https://localhost:8080/"
        },
        "id": "HzyYrCyYmOpb",
        "outputId": "91906fd6-bc13-4100-ad79-0c86058ce0a9"
      },
      "execution_count": 77,
      "outputs": [
        {
          "output_type": "stream",
          "name": "stdout",
          "text": [
            "hi\n",
            "제 키는 170이에요\n",
            "hi\n",
            "ㅋ\n"
          ]
        }
      ]
    },
    {
      "cell_type": "code",
      "source": [
        "#상속 -> 효율화\n",
        "class Robot: #부모 클래스.\n",
        "    def greeting(self):\n",
        "        print(\"안녕하세요\")\n",
        "class Study_bot(Robot): #자식 클래스. Robot 클래스를 상속 받음 -> 뭐가 좋은데? -> Robot이 가지는 함수를 사용 할 수 있음! 왜 이렇게 하지?\n",
        "#클래스는 분류잖아요. Study_bot은 좁게 보면 study이지만 로봇인 것임. 개 라는 class가 있을 때 그 중에 종에 포메. dog1=포메() 이렇게 만들어주면 개가 가지고 있는 함수를 가지고 있는 것\n",
        "    def study(self):\n",
        "        print(\"열심열심!!\")\n",
        "\n",
        "bot = Study_bot()\n",
        "bot.greeting()\n",
        "#왜 가능하지? 이건 study_bot 이기 전에 bot 이기 때문에 greeting이 되는 것임. 물려받았기 때문에 사용 가능!"
      ],
      "metadata": {
        "colab": {
          "base_uri": "https://localhost:8080/"
        },
        "id": "EzY8BRFNnOt0",
        "outputId": "4e6edca0-be26-487d-edc3-ed02c3031215"
      },
      "execution_count": 80,
      "outputs": [
        {
          "output_type": "stream",
          "name": "stdout",
          "text": [
            "안녕하세요\n"
          ]
        }
      ]
    },
    {
      "cell_type": "code",
      "source": [
        "#메서드 오버라이딩 (overriding)\n",
        "class Robot:\n",
        "    def greeting(self):\n",
        "        print(\"로봇입니다\")\n",
        "\n",
        "class Study_bot(Robot):\n",
        "    def greeting(self): # 부모의 greeting을 물려받았으나..\n",
        "        print(\"공부하는 로봇입니다\") # 만약 자식에서 한번 더 수행하면? 다시 정의하면 덮어써버림\n",
        "\n",
        "bot1 = Study_bot()\n",
        "bot1.greeting()"
      ],
      "metadata": {
        "colab": {
          "base_uri": "https://localhost:8080/"
        },
        "id": "0mEpEdxbocdu",
        "outputId": "d4a8b19d-ea01-4576-a692-ab565a42d86a"
      },
      "execution_count": 85,
      "outputs": [
        {
          "output_type": "stream",
          "name": "stdout",
          "text": [
            "공부하는 로봇입니다\n"
          ]
        }
      ]
    },
    {
      "cell_type": "code",
      "source": [
        "#메서드 오버라이딩 (overriding)\n",
        "class Robot:\n",
        "    def greeting(self):\n",
        "        print(\"로봇입니다\")\n",
        "\n",
        "class Study_bot(Robot):\n",
        "    def greeting(self): # 부모의 greeting을 물려받았으나..\n",
        "        super().greeting() #super()가 부모 클래스를 가리킴 #부모의 것을 이렇게 사용하는 것 가능.\n",
        "        print(\"공부하는 로봇입니다\") #부모의 원래 기능은 유지, 거기에 덧붙이고 싶을 때 오버라이딩 사용 가능\n",
        "\n",
        "bot1 = Study_bot()\n",
        "bot1.greeting()"
      ],
      "metadata": {
        "colab": {
          "base_uri": "https://localhost:8080/"
        },
        "id": "cgrm_H7Uo27e",
        "outputId": "3ff6a746-ee2c-42c7-ce87-83abf483bf5c"
      },
      "execution_count": 86,
      "outputs": [
        {
          "output_type": "stream",
          "name": "stdout",
          "text": [
            "로봇입니다\n",
            "공부하는 로봇입니다\n"
          ]
        }
      ]
    },
    {
      "cell_type": "code",
      "source": [
        "class Robot:\n",
        "    def func1(self):\n",
        "        print(\"부모 클래스의 func1 실행\")\n",
        "        self.money = 100\n",
        "\n",
        "class Study_bot(Robot):\n",
        "    def func2(self):\n",
        "        print(\"자식 클래스의 func2 실행\")\n",
        "        self.book = 10\n",
        "\n",
        "bot1 = Study_bot()\n",
        "bot1.func1()  #func1을 물려받았기 때문에 반드시 여기서 실행을 해야만 self.money에 상속이 됨.  a=1 은 실행이 되어야 입력이 되는 것과 비슷한 원리.\n",
        "bot1.func2()\n",
        "print(bot1.book)\n",
        "print(bot1.money)"
      ],
      "metadata": {
        "colab": {
          "base_uri": "https://localhost:8080/"
        },
        "id": "xN-1XSx6pTmV",
        "outputId": "4cd315bc-6481-40d8-ee7b-d5f8ef6c8b7b"
      },
      "execution_count": 90,
      "outputs": [
        {
          "output_type": "stream",
          "name": "stdout",
          "text": [
            "부모 클래스의 func1 실행\n",
            "자식 클래스의 func2 실행\n",
            "10\n",
            "100\n"
          ]
        }
      ]
    },
    {
      "cell_type": "code",
      "source": [
        "#딥러닝 코드에선 아래와 같은 코드를 많이 보게 됨\n",
        "class Robot:\n",
        "    def __init__(self):\n",
        "        print(\"부모 클래스의 init 실행\")\n",
        "        self.money = 100\n",
        "\n",
        "class Study_bot(Robot):\n",
        "    def __init__(self):\n",
        "        super().__init__() #super init을 먼저 하고 그 다음 뭔가 하게 되어 있음. 상속 받아야 할 것들이 많아, 그것들을 받기 위해 실행을 해주는 것. 그래야 attribute로 데려올 수 있음\n",
        "        print(\"자식 클래스의 init 실행\")\n",
        "        self.book = 10\n",
        "\n",
        "#그냥 부모 클래스 따로 자식 클래스 따로면, 각각 실행한다고 상속받는 게 아니라, 애초에 자식 클래스를 기준으로 해서 자식 클래스에 대해서 위에 self.money가 수행이 되어야함.\n",
        "#상속받은 function을 수행해서 study봇에 대해서 알 수 있게 됨.\n",
        "bot1 = Study_bot()\n",
        "print(bot1.book)\n",
        "\n"
      ],
      "metadata": {
        "colab": {
          "base_uri": "https://localhost:8080/"
        },
        "id": "oFrzuwrtqDSM",
        "outputId": "f4294b0b-200b-45ee-fe55-94b5e8edad6b"
      },
      "execution_count": 97,
      "outputs": [
        {
          "output_type": "stream",
          "name": "stdout",
          "text": [
            "부모 클래스의 init 실행\n",
            "자식 클래스의 init 실행\n",
            "10\n"
          ]
        }
      ]
    },
    {
      "cell_type": "code",
      "source": [
        "class Robot:\n",
        "    def __init__(self):\n",
        "        print(\"부모 클래스의 init 실행\")\n",
        "        self.money = 100\n",
        "\n",
        "class Study_bot(Robot):\n",
        "    def func2(self): #자식 클래스에 __init__이 없다면 부모 클래스의 __init_이 자동 호출됨\n",
        "        print(\"자식 클래스의 func2 실행\")\n",
        "        self.book = 10\n",
        "\n",
        "bot1 = Study_bot()\n",
        "bot1.func2() #이걸 실행하지 않으면 9번 줄이 실행이 안 되기 때문에 아래 book 값이 출력이 되지 않음. 상속을 받을 때는 얘 instance안에서 부모 클래스의 함수가 실행되도록.\n",
        "print(bot1.book)\n",
        "print(bot1.money)"
      ],
      "metadata": {
        "colab": {
          "base_uri": "https://localhost:8080/"
        },
        "id": "K2-3HSPzrgdj",
        "outputId": "541c7967-5e17-49a9-ec7d-edd5fd7e46c3"
      },
      "execution_count": 101,
      "outputs": [
        {
          "output_type": "stream",
          "name": "stdout",
          "text": [
            "부모 클래스의 init 실행\n",
            "자식 클래스의 func2 실행\n",
            "10\n",
            "100\n"
          ]
        }
      ]
    },
    {
      "cell_type": "code",
      "source": [
        "class Robot:\n",
        "    def greeting(self):\n",
        "        print(\"로봇입니다\")\n",
        "\n",
        "class Life:\n",
        "    def eat(self):\n",
        "        print(\"냠냠\")\n",
        "\n",
        "class Study_bot(Robot, Life):\n",
        "    def study(self):\n",
        "        print(\"열심열심!\") #이러면 둘 한테서 모두 상속을 받음\n",
        "\n",
        "bot1 = Study_bot()\n",
        "bot1.greeting()\n",
        "bot1.eat()\n",
        "bot1.study() #로봇 그 자체를 인스턴스라고 생각하면 될까요? 로봇은 클래스이고, 클래스의 이름. bot1은 만들어진 인스턴스임. 위에서 클래스는 아직 실체가 없는건데,\n",
        "#아래 bot1을 통해 만들어 지는 것. 진짜로 만들어 진 것을 인스턴스라고 함. 클래스는 개념만 존재하고 인스턴스는 실체화 하는 것으로 생각하면 될지? 맞음"
      ],
      "metadata": {
        "colab": {
          "base_uri": "https://localhost:8080/"
        },
        "id": "Gj0ppnISsKFQ",
        "outputId": "0a6e220c-21f3-465b-e5d4-afed98de738f"
      },
      "execution_count": 104,
      "outputs": [
        {
          "output_type": "stream",
          "name": "stdout",
          "text": [
            "로봇입니다\n",
            "냠냠\n",
            "열심열심!\n"
          ]
        }
      ]
    },
    {
      "cell_type": "code",
      "source": [
        "class 사과:\n",
        "    def __init__(self):\n",
        "        self.색깔 = \"빨강\"\n",
        "        self.맛 = \"달다\"\n",
        "\n",
        "apple1 = 사과()\n",
        "apple1.맛\n",
        "\n",
        "#클래스에 대한 질문.. super에다가 init을 하는 이유가, 부모의 속성을 이어받기 위함이라 했는데, 보통 클래스 선언할 때 먼저 속성을 정의하고 그 밑에 함수 메소드 등을 정의하는데,\n",
        "#그렇게 하기 때문에 자식 메소드에서 init을 선언해주면, 부모의 속성 중에 init에 선언되어있는 걸 한번에 받아올 수 있는거고\n",
        "#만약 부모의 클래스에서 init에 선언되지 않았던 속성, 함수안에서도 별도 속성을 가지고 있다면, 걔는 자식속성에서 슈퍼를 받아와도 부모 함수 안에 있는 함수는 못 받아올까요?"
      ],
      "metadata": {
        "colab": {
          "base_uri": "https://localhost:8080/",
          "height": 36
        },
        "id": "hyyJwpHntOhq",
        "outputId": "eab00229-5bf8-4a04-e846-5d2e224199be"
      },
      "execution_count": 108,
      "outputs": [
        {
          "output_type": "execute_result",
          "data": {
            "text/plain": [
              "'달다'"
            ],
            "application/vnd.google.colaboratory.intrinsic+json": {
              "type": "string"
            }
          },
          "metadata": {},
          "execution_count": 108
        }
      ]
    },
    {
      "cell_type": "code",
      "source": [
        "class Robot:\n",
        "    def __init__(self):\n",
        "        print(\"부모 클래스의 init 실행\")\n",
        "        self.money = 100\n",
        "    def func1(self):\n",
        "        self.a = 10\n",
        "class Study_bot(Robot):\n",
        "    def __init__(self):\n",
        "        super().__init__()\n",
        "        print(\"자식 클래스의 init 실행\")\n",
        "        self.book = 10\n",
        "\n",
        "bot1 = Study_bot()\n",
        "print(bot1.book)\n",
        "#상속하면 다 가져온다기 보다도, 가져온 다음에 실행이 되어야만 함. 이렇게 함으로서 가져왔다기 보단 아래 super를 하면서 가져왔다고 봐야겠네요.\n",
        "#함수를 실행함으로서 가져오는 개념. 그래서 init을 모두 놓는 모얌임. self. 이렇게 놓는 것은 그 이유가 가지고 올 때 쓱 가지고 올려면 미리 해놔야 하니까. 엄한 함수에서 만들어 놓은 것을\n",
        "#가져오지 않도록 하기 위함.\n",
        "print(bot1.money)"
      ],
      "metadata": {
        "colab": {
          "base_uri": "https://localhost:8080/"
        },
        "id": "7_jfKXUht_FC",
        "outputId": "da3e87f2-82e6-4fab-df93-519bcf3627b0"
      },
      "execution_count": 114,
      "outputs": [
        {
          "output_type": "stream",
          "name": "stdout",
          "text": [
            "부모 클래스의 init 실행\n",
            "자식 클래스의 init 실행\n",
            "10\n",
            "100\n"
          ]
        }
      ]
    },
    {
      "cell_type": "code",
      "source": [
        "#알쏭달쏭 다이아몬드 상속\n",
        "class A:\n",
        "    def greeting(self):\n",
        "        print(\"A\")\n",
        "class B(A):\n",
        "    def greeting(self):\n",
        "        print(\"B\")\n",
        "class C(A):\n",
        "    def greeting(self):\n",
        "        print(\"C\")\n",
        "class D(B,C): #가장 왼쪽 것의 greeting을 가져옴. 뿌리를 가져가서 가지고 오지 않고, 단순하게 B, C 되어있으면 B의 greeting을 가져옴.\n",
        "    def __init__(self):\n",
        "        print(\"D 생성\") #A -> B, C. D(B,C) 만약 greeting하게 되면..?\n",
        "\n",
        "x=D()\n",
        "x.greeting() # 왜 갑자기 B가 나오는거지? 순서를 바꾸면 C가 나옴 B,C -> C,B"
      ],
      "metadata": {
        "colab": {
          "base_uri": "https://localhost:8080/"
        },
        "id": "ZuLjcciLuxlj",
        "outputId": "284fb027-90a1-407b-cfd2-75b2a3e2da00"
      },
      "execution_count": 2,
      "outputs": [
        {
          "output_type": "stream",
          "name": "stdout",
          "text": [
            "D 생성\n",
            "B\n"
          ]
        }
      ]
    },
    {
      "cell_type": "markdown",
      "source": [
        "##이터레이터"
      ],
      "metadata": {
        "id": "vy7OtXrwIXOI"
      }
    },
    {
      "cell_type": "code",
      "source": [
        "a=[1,2,3]\n",
        "a_it = iter(a)\n",
        "print(type(a_it)) #iterator로 변신한 상태\n",
        "print(next(a_it))\n",
        "print(next(a_it)) #왼쪽부터 꺼내줌. 만약 다 썼으면 에러가 뜸.\n",
        "#print(next(a_it))"
      ],
      "metadata": {
        "colab": {
          "base_uri": "https://localhost:8080/"
        },
        "id": "AtTL4YDsIYLn",
        "outputId": "678de429-f438-4464-a274-d8d9ef607a33"
      },
      "execution_count": 7,
      "outputs": [
        {
          "output_type": "stream",
          "name": "stdout",
          "text": [
            "<class 'list_iterator'>\n",
            "1\n",
            "2\n"
          ]
        }
      ]
    },
    {
      "cell_type": "code",
      "source": [
        "for i in iter([1,2,3,]):\n",
        "    print(i)\n",
        "\n",
        "a=[1,2,3]\n",
        "#[~,~,~~]\n",
        "a_i = next(iter(a))\n",
        "print(a_i) #list가 아닌 녀석을 iterator로 바꿀 수 있음. 한 숟가락 뜰 때 좋음.\n",
        "\n",
        "#여기까지 파이썬 기본적인 내용이 끝남."
      ],
      "metadata": {
        "colab": {
          "base_uri": "https://localhost:8080/"
        },
        "id": "k6cKXpsBIxPZ",
        "outputId": "de28c8e8-da64-44e2-a1a8-dc6b253fae84"
      },
      "execution_count": 9,
      "outputs": [
        {
          "output_type": "stream",
          "name": "stdout",
          "text": [
            "1\n",
            "2\n",
            "3\n",
            "1\n"
          ]
        }
      ]
    }
  ]
}